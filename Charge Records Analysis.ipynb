{
 "cells": [
  {
   "cell_type": "code",
   "execution_count": 69,
   "metadata": {},
   "outputs": [],
   "source": [
    "#import all packages\n",
    "#-----------------------------------------------------\n",
    "import numpy as np \n",
    "import pandas as pd \n",
    "import matplotlib.pyplot as plt\n",
    "import datetime\n",
    "import plotly.express as px\n",
    "import plotly.subplots\n",
    "import plotly.graph_objects as go\n",
    "from datetime import timedelta\n",
    "\n",
    "#rename csv files\n",
    "#-----------------------------------------------------\n",
    "csv_ChargeRecords = \"test.csv\""
   ]
  },
  {
   "cell_type": "code",
   "execution_count": 93,
   "metadata": {},
   "outputs": [
    {
     "data": {
      "text/html": [
       "<div>\n",
       "<style scoped>\n",
       "    .dataframe tbody tr th:only-of-type {\n",
       "        vertical-align: middle;\n",
       "    }\n",
       "\n",
       "    .dataframe tbody tr th {\n",
       "        vertical-align: top;\n",
       "    }\n",
       "\n",
       "    .dataframe thead th {\n",
       "        text-align: right;\n",
       "    }\n",
       "</style>\n",
       "<table border=\"1\" class=\"dataframe\">\n",
       "  <thead>\n",
       "    <tr style=\"text-align: right;\">\n",
       "      <th></th>\n",
       "      <th>UserID</th>\n",
       "      <th>duration</th>\n",
       "      <th>starttime</th>\n",
       "      <th>endtime</th>\n",
       "      <th>connectorstandard</th>\n",
       "      <th>maxsocketpower</th>\n",
       "      <th>quantityinwh</th>\n",
       "    </tr>\n",
       "  </thead>\n",
       "  <tbody>\n",
       "    <tr>\n",
       "      <th>0</th>\n",
       "      <td>877</td>\n",
       "      <td>03:14:31</td>\n",
       "      <td>2021-12-08 19:45:00</td>\n",
       "      <td>2021-12-08 23:00:00</td>\n",
       "      <td>IEC_62196_T2</td>\n",
       "      <td>22.0</td>\n",
       "      <td>25810</td>\n",
       "    </tr>\n",
       "    <tr>\n",
       "      <th>1</th>\n",
       "      <td>241</td>\n",
       "      <td>05:00:10</td>\n",
       "      <td>2021-12-08 18:53:00</td>\n",
       "      <td>2021-12-08 23:53:00</td>\n",
       "      <td>IEC_62196_T2</td>\n",
       "      <td>22.0</td>\n",
       "      <td>18320</td>\n",
       "    </tr>\n",
       "    <tr>\n",
       "      <th>2</th>\n",
       "      <td>544</td>\n",
       "      <td>00:01:04</td>\n",
       "      <td>2021-12-08 14:33:00</td>\n",
       "      <td>2021-12-08 14:34:00</td>\n",
       "      <td>IEC_62196_T2</td>\n",
       "      <td>22.0</td>\n",
       "      <td>0</td>\n",
       "    </tr>\n",
       "    <tr>\n",
       "      <th>3</th>\n",
       "      <td>241</td>\n",
       "      <td>02:03:36</td>\n",
       "      <td>2021-08-08 15:26:00</td>\n",
       "      <td>2021-08-08 17:30:00</td>\n",
       "      <td>IEC_62196_T2</td>\n",
       "      <td>22.0</td>\n",
       "      <td>7720</td>\n",
       "    </tr>\n",
       "    <tr>\n",
       "      <th>4</th>\n",
       "      <td>574</td>\n",
       "      <td>00:01:09</td>\n",
       "      <td>2021-06-08 09:31:00</td>\n",
       "      <td>2021-06-08 09:32:00</td>\n",
       "      <td>IEC_62196_T2</td>\n",
       "      <td>11.0</td>\n",
       "      <td>0</td>\n",
       "    </tr>\n",
       "    <tr>\n",
       "      <th>...</th>\n",
       "      <td>...</td>\n",
       "      <td>...</td>\n",
       "      <td>...</td>\n",
       "      <td>...</td>\n",
       "      <td>...</td>\n",
       "      <td>...</td>\n",
       "      <td>...</td>\n",
       "    </tr>\n",
       "    <tr>\n",
       "      <th>1994</th>\n",
       "      <td>988</td>\n",
       "      <td>01:50:47</td>\n",
       "      <td>2021-07-27 22:00:00</td>\n",
       "      <td>2021-07-27 23:51:00</td>\n",
       "      <td>IEC_62196_T2</td>\n",
       "      <td>22.0</td>\n",
       "      <td>6800</td>\n",
       "    </tr>\n",
       "    <tr>\n",
       "      <th>1995</th>\n",
       "      <td>988</td>\n",
       "      <td>01:42:09</td>\n",
       "      <td>2021-07-29 22:51:00</td>\n",
       "      <td>2021-07-30 00:33:00</td>\n",
       "      <td>IEC_62196_T2</td>\n",
       "      <td>22.0</td>\n",
       "      <td>5200</td>\n",
       "    </tr>\n",
       "    <tr>\n",
       "      <th>1996</th>\n",
       "      <td>988</td>\n",
       "      <td>01:46:00</td>\n",
       "      <td>2021-07-31 22:58:00</td>\n",
       "      <td>2021-01-08 00:44:00</td>\n",
       "      <td>IEC_62196_T2</td>\n",
       "      <td>22.0</td>\n",
       "      <td>6500</td>\n",
       "    </tr>\n",
       "    <tr>\n",
       "      <th>1997</th>\n",
       "      <td>988</td>\n",
       "      <td>01:45:06</td>\n",
       "      <td>2021-02-08 22:16:00</td>\n",
       "      <td>2021-03-08 00:01:00</td>\n",
       "      <td>IEC_62196_T2</td>\n",
       "      <td>22.0</td>\n",
       "      <td>6500</td>\n",
       "    </tr>\n",
       "    <tr>\n",
       "      <th>1998</th>\n",
       "      <td>988</td>\n",
       "      <td>01:49:10</td>\n",
       "      <td>2021-03-08 21:34:00</td>\n",
       "      <td>2021-03-08 23:23:00</td>\n",
       "      <td>IEC_62196_T2</td>\n",
       "      <td>22.0</td>\n",
       "      <td>4800</td>\n",
       "    </tr>\n",
       "  </tbody>\n",
       "</table>\n",
       "<p>1999 rows × 7 columns</p>\n",
       "</div>"
      ],
      "text/plain": [
       "     UserID duration           starttime             endtime  \\\n",
       "0       877 03:14:31 2021-12-08 19:45:00 2021-12-08 23:00:00   \n",
       "1       241 05:00:10 2021-12-08 18:53:00 2021-12-08 23:53:00   \n",
       "2       544 00:01:04 2021-12-08 14:33:00 2021-12-08 14:34:00   \n",
       "3       241 02:03:36 2021-08-08 15:26:00 2021-08-08 17:30:00   \n",
       "4       574 00:01:09 2021-06-08 09:31:00 2021-06-08 09:32:00   \n",
       "...     ...      ...                 ...                 ...   \n",
       "1994    988 01:50:47 2021-07-27 22:00:00 2021-07-27 23:51:00   \n",
       "1995    988 01:42:09 2021-07-29 22:51:00 2021-07-30 00:33:00   \n",
       "1996    988 01:46:00 2021-07-31 22:58:00 2021-01-08 00:44:00   \n",
       "1997    988 01:45:06 2021-02-08 22:16:00 2021-03-08 00:01:00   \n",
       "1998    988 01:49:10 2021-03-08 21:34:00 2021-03-08 23:23:00   \n",
       "\n",
       "     connectorstandard  maxsocketpower  quantityinwh  \n",
       "0         IEC_62196_T2            22.0         25810  \n",
       "1         IEC_62196_T2            22.0         18320  \n",
       "2         IEC_62196_T2            22.0             0  \n",
       "3         IEC_62196_T2            22.0          7720  \n",
       "4         IEC_62196_T2            11.0             0  \n",
       "...                ...             ...           ...  \n",
       "1994      IEC_62196_T2            22.0          6800  \n",
       "1995      IEC_62196_T2            22.0          5200  \n",
       "1996      IEC_62196_T2            22.0          6500  \n",
       "1997      IEC_62196_T2            22.0          6500  \n",
       "1998      IEC_62196_T2            22.0          4800  \n",
       "\n",
       "[1999 rows x 7 columns]"
      ]
     },
     "execution_count": 93,
     "metadata": {},
     "output_type": "execute_result"
    }
   ],
   "source": [
    "#read csv \n",
    "#----------------------------------------------------\n",
    "df_ChargeRecords = pd.read_csv(csv_ChargeRecords, \n",
    "        header         = [0], \n",
    "        sep            = ',',\n",
    "        parse_dates    = ['endtime', 'starttime']).rename(columns={\n",
    "    'Hashed contract id':'UserID'\n",
    "})\n",
    "\n",
    "#change column type duration to timedelta\n",
    "df_ChargeRecords[\"duration\"] = pd.to_timedelta(df_ChargeRecords[\"duration\"])\n",
    "\n",
    "#move starttime to third column with pop and insert\n",
    "start_time = df_ChargeRecords.pop(\"starttime\")\n",
    "df_ChargeRecords.insert(2, \"starttime\", start_time)\n",
    "\n",
    "#change column type UserID to str\n",
    "df_ChargeRecords[\"UserID\"] = df_ChargeRecords[\"UserID\"].astype(str)\n",
    "\n",
    "#show data\n",
    "df_ChargeRecords"
   ]
  },
  {
   "cell_type": "code",
   "execution_count": 94,
   "metadata": {},
   "outputs": [
    {
     "name": "stdout",
     "output_type": "stream",
     "text": [
      "<class 'pandas.core.frame.DataFrame'>\n",
      "RangeIndex: 1999 entries, 0 to 1998\n",
      "Data columns (total 7 columns):\n",
      " #   Column             Non-Null Count  Dtype          \n",
      "---  ------             --------------  -----          \n",
      " 0   UserID             1999 non-null   object         \n",
      " 1   duration           1999 non-null   timedelta64[ns]\n",
      " 2   starttime          1999 non-null   datetime64[ns] \n",
      " 3   endtime            1999 non-null   datetime64[ns] \n",
      " 4   connectorstandard  1999 non-null   object         \n",
      " 5   maxsocketpower     1999 non-null   float64        \n",
      " 6   quantityinwh       1999 non-null   int64          \n",
      "dtypes: datetime64[ns](2), float64(1), int64(1), object(2), timedelta64[ns](1)\n",
      "memory usage: 109.4+ KB\n"
     ]
    }
   ],
   "source": [
    "#check data type \n",
    "#----------------------------------------------------\n",
    "df_ChargeRecords.info()"
   ]
  },
  {
   "cell_type": "code",
   "execution_count": 95,
   "metadata": {},
   "outputs": [
    {
     "data": {
      "text/html": [
       "<div>\n",
       "<style scoped>\n",
       "    .dataframe tbody tr th:only-of-type {\n",
       "        vertical-align: middle;\n",
       "    }\n",
       "\n",
       "    .dataframe tbody tr th {\n",
       "        vertical-align: top;\n",
       "    }\n",
       "\n",
       "    .dataframe thead th {\n",
       "        text-align: right;\n",
       "    }\n",
       "</style>\n",
       "<table border=\"1\" class=\"dataframe\">\n",
       "  <thead>\n",
       "    <tr style=\"text-align: right;\">\n",
       "      <th></th>\n",
       "      <th>UserID</th>\n",
       "      <th>NumberOfStartTime</th>\n",
       "      <th>NumberOfEndTime</th>\n",
       "    </tr>\n",
       "  </thead>\n",
       "  <tbody>\n",
       "    <tr>\n",
       "      <th>0</th>\n",
       "      <td>169</td>\n",
       "      <td>1</td>\n",
       "      <td>1</td>\n",
       "    </tr>\n",
       "    <tr>\n",
       "      <th>1</th>\n",
       "      <td>206</td>\n",
       "      <td>2</td>\n",
       "      <td>2</td>\n",
       "    </tr>\n",
       "    <tr>\n",
       "      <th>2</th>\n",
       "      <td>210</td>\n",
       "      <td>4</td>\n",
       "      <td>4</td>\n",
       "    </tr>\n",
       "    <tr>\n",
       "      <th>3</th>\n",
       "      <td>224</td>\n",
       "      <td>14</td>\n",
       "      <td>14</td>\n",
       "    </tr>\n",
       "    <tr>\n",
       "      <th>4</th>\n",
       "      <td>231</td>\n",
       "      <td>16</td>\n",
       "      <td>16</td>\n",
       "    </tr>\n",
       "    <tr>\n",
       "      <th>5</th>\n",
       "      <td>241</td>\n",
       "      <td>67</td>\n",
       "      <td>67</td>\n",
       "    </tr>\n",
       "    <tr>\n",
       "      <th>6</th>\n",
       "      <td>252</td>\n",
       "      <td>3</td>\n",
       "      <td>3</td>\n",
       "    </tr>\n",
       "    <tr>\n",
       "      <th>7</th>\n",
       "      <td>303</td>\n",
       "      <td>6</td>\n",
       "      <td>6</td>\n",
       "    </tr>\n",
       "    <tr>\n",
       "      <th>8</th>\n",
       "      <td>354</td>\n",
       "      <td>8</td>\n",
       "      <td>8</td>\n",
       "    </tr>\n",
       "    <tr>\n",
       "      <th>9</th>\n",
       "      <td>397</td>\n",
       "      <td>6</td>\n",
       "      <td>6</td>\n",
       "    </tr>\n",
       "    <tr>\n",
       "      <th>10</th>\n",
       "      <td>415</td>\n",
       "      <td>14</td>\n",
       "      <td>14</td>\n",
       "    </tr>\n",
       "    <tr>\n",
       "      <th>11</th>\n",
       "      <td>469</td>\n",
       "      <td>92</td>\n",
       "      <td>92</td>\n",
       "    </tr>\n",
       "    <tr>\n",
       "      <th>12</th>\n",
       "      <td>534</td>\n",
       "      <td>11</td>\n",
       "      <td>11</td>\n",
       "    </tr>\n",
       "    <tr>\n",
       "      <th>13</th>\n",
       "      <td>544</td>\n",
       "      <td>1</td>\n",
       "      <td>1</td>\n",
       "    </tr>\n",
       "    <tr>\n",
       "      <th>14</th>\n",
       "      <td>574</td>\n",
       "      <td>2</td>\n",
       "      <td>2</td>\n",
       "    </tr>\n",
       "    <tr>\n",
       "      <th>15</th>\n",
       "      <td>594</td>\n",
       "      <td>1</td>\n",
       "      <td>1</td>\n",
       "    </tr>\n",
       "    <tr>\n",
       "      <th>16</th>\n",
       "      <td>599</td>\n",
       "      <td>19</td>\n",
       "      <td>19</td>\n",
       "    </tr>\n",
       "    <tr>\n",
       "      <th>17</th>\n",
       "      <td>610</td>\n",
       "      <td>3</td>\n",
       "      <td>3</td>\n",
       "    </tr>\n",
       "    <tr>\n",
       "      <th>18</th>\n",
       "      <td>642</td>\n",
       "      <td>9</td>\n",
       "      <td>9</td>\n",
       "    </tr>\n",
       "    <tr>\n",
       "      <th>19</th>\n",
       "      <td>678</td>\n",
       "      <td>10</td>\n",
       "      <td>10</td>\n",
       "    </tr>\n",
       "    <tr>\n",
       "      <th>20</th>\n",
       "      <td>680</td>\n",
       "      <td>6</td>\n",
       "      <td>6</td>\n",
       "    </tr>\n",
       "    <tr>\n",
       "      <th>21</th>\n",
       "      <td>738</td>\n",
       "      <td>16</td>\n",
       "      <td>16</td>\n",
       "    </tr>\n",
       "    <tr>\n",
       "      <th>22</th>\n",
       "      <td>741</td>\n",
       "      <td>13</td>\n",
       "      <td>13</td>\n",
       "    </tr>\n",
       "    <tr>\n",
       "      <th>23</th>\n",
       "      <td>742</td>\n",
       "      <td>2</td>\n",
       "      <td>2</td>\n",
       "    </tr>\n",
       "    <tr>\n",
       "      <th>24</th>\n",
       "      <td>750</td>\n",
       "      <td>5</td>\n",
       "      <td>5</td>\n",
       "    </tr>\n",
       "    <tr>\n",
       "      <th>25</th>\n",
       "      <td>752</td>\n",
       "      <td>41</td>\n",
       "      <td>41</td>\n",
       "    </tr>\n",
       "    <tr>\n",
       "      <th>26</th>\n",
       "      <td>758</td>\n",
       "      <td>2</td>\n",
       "      <td>2</td>\n",
       "    </tr>\n",
       "    <tr>\n",
       "      <th>27</th>\n",
       "      <td>798</td>\n",
       "      <td>1</td>\n",
       "      <td>1</td>\n",
       "    </tr>\n",
       "    <tr>\n",
       "      <th>28</th>\n",
       "      <td>80</td>\n",
       "      <td>1</td>\n",
       "      <td>1</td>\n",
       "    </tr>\n",
       "    <tr>\n",
       "      <th>29</th>\n",
       "      <td>827</td>\n",
       "      <td>1</td>\n",
       "      <td>1</td>\n",
       "    </tr>\n",
       "    <tr>\n",
       "      <th>30</th>\n",
       "      <td>864</td>\n",
       "      <td>2</td>\n",
       "      <td>2</td>\n",
       "    </tr>\n",
       "    <tr>\n",
       "      <th>31</th>\n",
       "      <td>877</td>\n",
       "      <td>79</td>\n",
       "      <td>79</td>\n",
       "    </tr>\n",
       "    <tr>\n",
       "      <th>32</th>\n",
       "      <td>916</td>\n",
       "      <td>1</td>\n",
       "      <td>1</td>\n",
       "    </tr>\n",
       "    <tr>\n",
       "      <th>33</th>\n",
       "      <td>920</td>\n",
       "      <td>3</td>\n",
       "      <td>3</td>\n",
       "    </tr>\n",
       "    <tr>\n",
       "      <th>34</th>\n",
       "      <td>934</td>\n",
       "      <td>2</td>\n",
       "      <td>2</td>\n",
       "    </tr>\n",
       "    <tr>\n",
       "      <th>35</th>\n",
       "      <td>988</td>\n",
       "      <td>1532</td>\n",
       "      <td>1532</td>\n",
       "    </tr>\n",
       "    <tr>\n",
       "      <th>36</th>\n",
       "      <td>992</td>\n",
       "      <td>3</td>\n",
       "      <td>3</td>\n",
       "    </tr>\n",
       "  </tbody>\n",
       "</table>\n",
       "</div>"
      ],
      "text/plain": [
       "   UserID  NumberOfStartTime  NumberOfEndTime\n",
       "0     169                  1                1\n",
       "1     206                  2                2\n",
       "2     210                  4                4\n",
       "3     224                 14               14\n",
       "4     231                 16               16\n",
       "5     241                 67               67\n",
       "6     252                  3                3\n",
       "7     303                  6                6\n",
       "8     354                  8                8\n",
       "9     397                  6                6\n",
       "10    415                 14               14\n",
       "11    469                 92               92\n",
       "12    534                 11               11\n",
       "13    544                  1                1\n",
       "14    574                  2                2\n",
       "15    594                  1                1\n",
       "16    599                 19               19\n",
       "17    610                  3                3\n",
       "18    642                  9                9\n",
       "19    678                 10               10\n",
       "20    680                  6                6\n",
       "21    738                 16               16\n",
       "22    741                 13               13\n",
       "23    742                  2                2\n",
       "24    750                  5                5\n",
       "25    752                 41               41\n",
       "26    758                  2                2\n",
       "27    798                  1                1\n",
       "28     80                  1                1\n",
       "29    827                  1                1\n",
       "30    864                  2                2\n",
       "31    877                 79               79\n",
       "32    916                  1                1\n",
       "33    920                  3                3\n",
       "34    934                  2                2\n",
       "35    988               1532             1532\n",
       "36    992                  3                3"
      ]
     },
     "execution_count": 95,
     "metadata": {},
     "output_type": "execute_result"
    }
   ],
   "source": [
    "#User specific details count\n",
    "#-----------------------------------------------------\n",
    "df_ChargeRecords_UserSpecCount = df_ChargeRecords.groupby(['UserID']).count().reset_index().drop([\n",
    "    'duration','connectorstandard','maxsocketpower','quantityinwh'], axis=1).rename(columns={\n",
    "    'endtime': 'NumberOfEndTime',\n",
    "    'starttime': 'NumberOfStartTime'\n",
    "})\n",
    "\n",
    "#show data\n",
    "df_ChargeRecords_UserSpecCount"
   ]
  },
  {
   "cell_type": "code",
   "execution_count": 96,
   "metadata": {},
   "outputs": [
    {
     "name": "stdout",
     "output_type": "stream",
     "text": [
      "<class 'pandas.core.frame.DataFrame'>\n",
      "RangeIndex: 37 entries, 0 to 36\n",
      "Data columns (total 3 columns):\n",
      " #   Column             Non-Null Count  Dtype \n",
      "---  ------             --------------  ----- \n",
      " 0   UserID             37 non-null     object\n",
      " 1   NumberOfStartTime  37 non-null     int64 \n",
      " 2   NumberOfEndTime    37 non-null     int64 \n",
      "dtypes: int64(2), object(1)\n",
      "memory usage: 1016.0+ bytes\n"
     ]
    }
   ],
   "source": [
    "#check data type \n",
    "#----------------------------------------------------\n",
    "df_ChargeRecords_UserSpecCount.info()"
   ]
  },
  {
   "cell_type": "code",
   "execution_count": 97,
   "metadata": {},
   "outputs": [
    {
     "data": {
      "text/html": [
       "<div>\n",
       "<style scoped>\n",
       "    .dataframe tbody tr th:only-of-type {\n",
       "        vertical-align: middle;\n",
       "    }\n",
       "\n",
       "    .dataframe tbody tr th {\n",
       "        vertical-align: top;\n",
       "    }\n",
       "\n",
       "    .dataframe thead th {\n",
       "        text-align: right;\n",
       "    }\n",
       "</style>\n",
       "<table border=\"1\" class=\"dataframe\">\n",
       "  <thead>\n",
       "    <tr style=\"text-align: right;\">\n",
       "      <th></th>\n",
       "      <th>UserID</th>\n",
       "      <th>Duration</th>\n",
       "      <th>ChargingEnergyinWh</th>\n",
       "    </tr>\n",
       "  </thead>\n",
       "  <tbody>\n",
       "    <tr>\n",
       "      <th>0</th>\n",
       "      <td>169</td>\n",
       "      <td>0 days 00:20:52</td>\n",
       "      <td>23016</td>\n",
       "    </tr>\n",
       "    <tr>\n",
       "      <th>1</th>\n",
       "      <td>206</td>\n",
       "      <td>0 days 07:44:04</td>\n",
       "      <td>55135</td>\n",
       "    </tr>\n",
       "    <tr>\n",
       "      <th>2</th>\n",
       "      <td>210</td>\n",
       "      <td>0 days 01:40:45</td>\n",
       "      <td>5472</td>\n",
       "    </tr>\n",
       "    <tr>\n",
       "      <th>3</th>\n",
       "      <td>224</td>\n",
       "      <td>1 days 07:13:43</td>\n",
       "      <td>193848</td>\n",
       "    </tr>\n",
       "    <tr>\n",
       "      <th>4</th>\n",
       "      <td>231</td>\n",
       "      <td>0 days 07:26:54</td>\n",
       "      <td>463972</td>\n",
       "    </tr>\n",
       "    <tr>\n",
       "      <th>5</th>\n",
       "      <td>241</td>\n",
       "      <td>7 days 10:20:21</td>\n",
       "      <td>686010</td>\n",
       "    </tr>\n",
       "    <tr>\n",
       "      <th>6</th>\n",
       "      <td>252</td>\n",
       "      <td>0 days 09:14:11</td>\n",
       "      <td>27774</td>\n",
       "    </tr>\n",
       "    <tr>\n",
       "      <th>7</th>\n",
       "      <td>303</td>\n",
       "      <td>0 days 14:43:17</td>\n",
       "      <td>155173</td>\n",
       "    </tr>\n",
       "    <tr>\n",
       "      <th>8</th>\n",
       "      <td>354</td>\n",
       "      <td>0 days 02:19:08</td>\n",
       "      <td>32892</td>\n",
       "    </tr>\n",
       "    <tr>\n",
       "      <th>9</th>\n",
       "      <td>397</td>\n",
       "      <td>0 days 04:27:23</td>\n",
       "      <td>88860</td>\n",
       "    </tr>\n",
       "    <tr>\n",
       "      <th>10</th>\n",
       "      <td>415</td>\n",
       "      <td>0 days 16:53:16</td>\n",
       "      <td>204850</td>\n",
       "    </tr>\n",
       "    <tr>\n",
       "      <th>11</th>\n",
       "      <td>469</td>\n",
       "      <td>6 days 01:58:19</td>\n",
       "      <td>838452</td>\n",
       "    </tr>\n",
       "    <tr>\n",
       "      <th>12</th>\n",
       "      <td>534</td>\n",
       "      <td>1 days 01:35:37</td>\n",
       "      <td>80179</td>\n",
       "    </tr>\n",
       "    <tr>\n",
       "      <th>13</th>\n",
       "      <td>544</td>\n",
       "      <td>0 days 00:01:04</td>\n",
       "      <td>0</td>\n",
       "    </tr>\n",
       "    <tr>\n",
       "      <th>14</th>\n",
       "      <td>574</td>\n",
       "      <td>0 days 00:02:11</td>\n",
       "      <td>0</td>\n",
       "    </tr>\n",
       "    <tr>\n",
       "      <th>15</th>\n",
       "      <td>594</td>\n",
       "      <td>0 days 00:27:46</td>\n",
       "      <td>20500</td>\n",
       "    </tr>\n",
       "    <tr>\n",
       "      <th>16</th>\n",
       "      <td>599</td>\n",
       "      <td>1 days 20:28:05</td>\n",
       "      <td>203741</td>\n",
       "    </tr>\n",
       "    <tr>\n",
       "      <th>17</th>\n",
       "      <td>610</td>\n",
       "      <td>0 days 01:36:41</td>\n",
       "      <td>25522</td>\n",
       "    </tr>\n",
       "    <tr>\n",
       "      <th>18</th>\n",
       "      <td>642</td>\n",
       "      <td>0 days 08:49:46</td>\n",
       "      <td>87066</td>\n",
       "    </tr>\n",
       "    <tr>\n",
       "      <th>19</th>\n",
       "      <td>678</td>\n",
       "      <td>0 days 06:02:33</td>\n",
       "      <td>51774</td>\n",
       "    </tr>\n",
       "    <tr>\n",
       "      <th>20</th>\n",
       "      <td>680</td>\n",
       "      <td>0 days 07:06:28</td>\n",
       "      <td>45543</td>\n",
       "    </tr>\n",
       "    <tr>\n",
       "      <th>21</th>\n",
       "      <td>738</td>\n",
       "      <td>1 days 16:31:21</td>\n",
       "      <td>150619</td>\n",
       "    </tr>\n",
       "    <tr>\n",
       "      <th>22</th>\n",
       "      <td>741</td>\n",
       "      <td>0 days 22:34:37</td>\n",
       "      <td>113529</td>\n",
       "    </tr>\n",
       "    <tr>\n",
       "      <th>23</th>\n",
       "      <td>742</td>\n",
       "      <td>0 days 05:32:51</td>\n",
       "      <td>17931</td>\n",
       "    </tr>\n",
       "    <tr>\n",
       "      <th>24</th>\n",
       "      <td>750</td>\n",
       "      <td>0 days 07:27:53</td>\n",
       "      <td>45243</td>\n",
       "    </tr>\n",
       "    <tr>\n",
       "      <th>25</th>\n",
       "      <td>752</td>\n",
       "      <td>4 days 13:59:13</td>\n",
       "      <td>660884</td>\n",
       "    </tr>\n",
       "    <tr>\n",
       "      <th>26</th>\n",
       "      <td>758</td>\n",
       "      <td>0 days 00:58:14</td>\n",
       "      <td>25175</td>\n",
       "    </tr>\n",
       "    <tr>\n",
       "      <th>27</th>\n",
       "      <td>798</td>\n",
       "      <td>0 days 00:01:04</td>\n",
       "      <td>0</td>\n",
       "    </tr>\n",
       "    <tr>\n",
       "      <th>28</th>\n",
       "      <td>80</td>\n",
       "      <td>0 days 00:26:58</td>\n",
       "      <td>1421</td>\n",
       "    </tr>\n",
       "    <tr>\n",
       "      <th>29</th>\n",
       "      <td>827</td>\n",
       "      <td>0 days 02:25:48</td>\n",
       "      <td>11060</td>\n",
       "    </tr>\n",
       "    <tr>\n",
       "      <th>30</th>\n",
       "      <td>864</td>\n",
       "      <td>0 days 07:53:48</td>\n",
       "      <td>8845</td>\n",
       "    </tr>\n",
       "    <tr>\n",
       "      <th>31</th>\n",
       "      <td>877</td>\n",
       "      <td>12 days 09:09:05</td>\n",
       "      <td>683105</td>\n",
       "    </tr>\n",
       "    <tr>\n",
       "      <th>32</th>\n",
       "      <td>916</td>\n",
       "      <td>0 days 02:13:48</td>\n",
       "      <td>6740</td>\n",
       "    </tr>\n",
       "    <tr>\n",
       "      <th>33</th>\n",
       "      <td>920</td>\n",
       "      <td>0 days 05:41:50</td>\n",
       "      <td>59970</td>\n",
       "    </tr>\n",
       "    <tr>\n",
       "      <th>34</th>\n",
       "      <td>934</td>\n",
       "      <td>0 days 05:48:32</td>\n",
       "      <td>17872</td>\n",
       "    </tr>\n",
       "    <tr>\n",
       "      <th>35</th>\n",
       "      <td>988</td>\n",
       "      <td>168 days 20:04:19</td>\n",
       "      <td>20089150</td>\n",
       "    </tr>\n",
       "    <tr>\n",
       "      <th>36</th>\n",
       "      <td>992</td>\n",
       "      <td>0 days 00:12:12</td>\n",
       "      <td>1358</td>\n",
       "    </tr>\n",
       "  </tbody>\n",
       "</table>\n",
       "</div>"
      ],
      "text/plain": [
       "   UserID          Duration  ChargingEnergyinWh\n",
       "0     169   0 days 00:20:52               23016\n",
       "1     206   0 days 07:44:04               55135\n",
       "2     210   0 days 01:40:45                5472\n",
       "3     224   1 days 07:13:43              193848\n",
       "4     231   0 days 07:26:54              463972\n",
       "5     241   7 days 10:20:21              686010\n",
       "6     252   0 days 09:14:11               27774\n",
       "7     303   0 days 14:43:17              155173\n",
       "8     354   0 days 02:19:08               32892\n",
       "9     397   0 days 04:27:23               88860\n",
       "10    415   0 days 16:53:16              204850\n",
       "11    469   6 days 01:58:19              838452\n",
       "12    534   1 days 01:35:37               80179\n",
       "13    544   0 days 00:01:04                   0\n",
       "14    574   0 days 00:02:11                   0\n",
       "15    594   0 days 00:27:46               20500\n",
       "16    599   1 days 20:28:05              203741\n",
       "17    610   0 days 01:36:41               25522\n",
       "18    642   0 days 08:49:46               87066\n",
       "19    678   0 days 06:02:33               51774\n",
       "20    680   0 days 07:06:28               45543\n",
       "21    738   1 days 16:31:21              150619\n",
       "22    741   0 days 22:34:37              113529\n",
       "23    742   0 days 05:32:51               17931\n",
       "24    750   0 days 07:27:53               45243\n",
       "25    752   4 days 13:59:13              660884\n",
       "26    758   0 days 00:58:14               25175\n",
       "27    798   0 days 00:01:04                   0\n",
       "28     80   0 days 00:26:58                1421\n",
       "29    827   0 days 02:25:48               11060\n",
       "30    864   0 days 07:53:48                8845\n",
       "31    877  12 days 09:09:05              683105\n",
       "32    916   0 days 02:13:48                6740\n",
       "33    920   0 days 05:41:50               59970\n",
       "34    934   0 days 05:48:32               17872\n",
       "35    988 168 days 20:04:19            20089150\n",
       "36    992   0 days 00:12:12                1358"
      ]
     },
     "execution_count": 97,
     "metadata": {},
     "output_type": "execute_result"
    }
   ],
   "source": [
    "#User specific details sum\n",
    "#-----------------------------------------------------\n",
    "df_ChargeRecords_UserSpecSum = df_ChargeRecords.groupby(['UserID']).agg({\n",
    "    'duration': np.sum, 'quantityinwh': np.sum}).reset_index().rename(columns={\n",
    "    'duration':'Duration',\n",
    "    'quantityinwh':'ChargingEnergyinWh',\n",
    "})\n",
    "#cannot use sum() for timedelta dtype --> forcing sum with numpy\n",
    "\n",
    "#show data\n",
    "df_ChargeRecords_UserSpecSum"
   ]
  },
  {
   "cell_type": "code",
   "execution_count": 98,
   "metadata": {},
   "outputs": [
    {
     "data": {
      "text/html": [
       "<div>\n",
       "<style scoped>\n",
       "    .dataframe tbody tr th:only-of-type {\n",
       "        vertical-align: middle;\n",
       "    }\n",
       "\n",
       "    .dataframe tbody tr th {\n",
       "        vertical-align: top;\n",
       "    }\n",
       "\n",
       "    .dataframe thead th {\n",
       "        text-align: right;\n",
       "    }\n",
       "</style>\n",
       "<table border=\"1\" class=\"dataframe\">\n",
       "  <thead>\n",
       "    <tr style=\"text-align: right;\">\n",
       "      <th></th>\n",
       "      <th>UserID</th>\n",
       "      <th>NumberOfStartTime</th>\n",
       "      <th>NumberOfEndTime</th>\n",
       "      <th>Duration</th>\n",
       "      <th>ChargingEnergyinWh</th>\n",
       "      <th>EnergyperCycle</th>\n",
       "    </tr>\n",
       "  </thead>\n",
       "  <tbody>\n",
       "    <tr>\n",
       "      <th>0</th>\n",
       "      <td>169</td>\n",
       "      <td>1</td>\n",
       "      <td>1</td>\n",
       "      <td>0 days 00:20:52</td>\n",
       "      <td>23016</td>\n",
       "      <td>23016.000000</td>\n",
       "    </tr>\n",
       "    <tr>\n",
       "      <th>1</th>\n",
       "      <td>206</td>\n",
       "      <td>2</td>\n",
       "      <td>2</td>\n",
       "      <td>0 days 07:44:04</td>\n",
       "      <td>55135</td>\n",
       "      <td>27567.500000</td>\n",
       "    </tr>\n",
       "    <tr>\n",
       "      <th>2</th>\n",
       "      <td>210</td>\n",
       "      <td>4</td>\n",
       "      <td>4</td>\n",
       "      <td>0 days 01:40:45</td>\n",
       "      <td>5472</td>\n",
       "      <td>1368.000000</td>\n",
       "    </tr>\n",
       "    <tr>\n",
       "      <th>3</th>\n",
       "      <td>224</td>\n",
       "      <td>14</td>\n",
       "      <td>14</td>\n",
       "      <td>1 days 07:13:43</td>\n",
       "      <td>193848</td>\n",
       "      <td>13846.285714</td>\n",
       "    </tr>\n",
       "    <tr>\n",
       "      <th>4</th>\n",
       "      <td>231</td>\n",
       "      <td>16</td>\n",
       "      <td>16</td>\n",
       "      <td>0 days 07:26:54</td>\n",
       "      <td>463972</td>\n",
       "      <td>28998.250000</td>\n",
       "    </tr>\n",
       "    <tr>\n",
       "      <th>5</th>\n",
       "      <td>241</td>\n",
       "      <td>67</td>\n",
       "      <td>67</td>\n",
       "      <td>7 days 10:20:21</td>\n",
       "      <td>686010</td>\n",
       "      <td>10238.955224</td>\n",
       "    </tr>\n",
       "    <tr>\n",
       "      <th>6</th>\n",
       "      <td>252</td>\n",
       "      <td>3</td>\n",
       "      <td>3</td>\n",
       "      <td>0 days 09:14:11</td>\n",
       "      <td>27774</td>\n",
       "      <td>9258.000000</td>\n",
       "    </tr>\n",
       "    <tr>\n",
       "      <th>7</th>\n",
       "      <td>303</td>\n",
       "      <td>6</td>\n",
       "      <td>6</td>\n",
       "      <td>0 days 14:43:17</td>\n",
       "      <td>155173</td>\n",
       "      <td>25862.166667</td>\n",
       "    </tr>\n",
       "    <tr>\n",
       "      <th>8</th>\n",
       "      <td>354</td>\n",
       "      <td>8</td>\n",
       "      <td>8</td>\n",
       "      <td>0 days 02:19:08</td>\n",
       "      <td>32892</td>\n",
       "      <td>4111.500000</td>\n",
       "    </tr>\n",
       "    <tr>\n",
       "      <th>9</th>\n",
       "      <td>397</td>\n",
       "      <td>6</td>\n",
       "      <td>6</td>\n",
       "      <td>0 days 04:27:23</td>\n",
       "      <td>88860</td>\n",
       "      <td>14810.000000</td>\n",
       "    </tr>\n",
       "    <tr>\n",
       "      <th>10</th>\n",
       "      <td>415</td>\n",
       "      <td>14</td>\n",
       "      <td>14</td>\n",
       "      <td>0 days 16:53:16</td>\n",
       "      <td>204850</td>\n",
       "      <td>14632.142857</td>\n",
       "    </tr>\n",
       "    <tr>\n",
       "      <th>11</th>\n",
       "      <td>469</td>\n",
       "      <td>92</td>\n",
       "      <td>92</td>\n",
       "      <td>6 days 01:58:19</td>\n",
       "      <td>838452</td>\n",
       "      <td>9113.608696</td>\n",
       "    </tr>\n",
       "    <tr>\n",
       "      <th>12</th>\n",
       "      <td>534</td>\n",
       "      <td>11</td>\n",
       "      <td>11</td>\n",
       "      <td>1 days 01:35:37</td>\n",
       "      <td>80179</td>\n",
       "      <td>7289.000000</td>\n",
       "    </tr>\n",
       "    <tr>\n",
       "      <th>13</th>\n",
       "      <td>544</td>\n",
       "      <td>1</td>\n",
       "      <td>1</td>\n",
       "      <td>0 days 00:01:04</td>\n",
       "      <td>0</td>\n",
       "      <td>0.000000</td>\n",
       "    </tr>\n",
       "    <tr>\n",
       "      <th>14</th>\n",
       "      <td>574</td>\n",
       "      <td>2</td>\n",
       "      <td>2</td>\n",
       "      <td>0 days 00:02:11</td>\n",
       "      <td>0</td>\n",
       "      <td>0.000000</td>\n",
       "    </tr>\n",
       "    <tr>\n",
       "      <th>15</th>\n",
       "      <td>594</td>\n",
       "      <td>1</td>\n",
       "      <td>1</td>\n",
       "      <td>0 days 00:27:46</td>\n",
       "      <td>20500</td>\n",
       "      <td>20500.000000</td>\n",
       "    </tr>\n",
       "    <tr>\n",
       "      <th>16</th>\n",
       "      <td>599</td>\n",
       "      <td>19</td>\n",
       "      <td>19</td>\n",
       "      <td>1 days 20:28:05</td>\n",
       "      <td>203741</td>\n",
       "      <td>10723.210526</td>\n",
       "    </tr>\n",
       "    <tr>\n",
       "      <th>17</th>\n",
       "      <td>610</td>\n",
       "      <td>3</td>\n",
       "      <td>3</td>\n",
       "      <td>0 days 01:36:41</td>\n",
       "      <td>25522</td>\n",
       "      <td>8507.333333</td>\n",
       "    </tr>\n",
       "    <tr>\n",
       "      <th>18</th>\n",
       "      <td>642</td>\n",
       "      <td>9</td>\n",
       "      <td>9</td>\n",
       "      <td>0 days 08:49:46</td>\n",
       "      <td>87066</td>\n",
       "      <td>9674.000000</td>\n",
       "    </tr>\n",
       "    <tr>\n",
       "      <th>19</th>\n",
       "      <td>678</td>\n",
       "      <td>10</td>\n",
       "      <td>10</td>\n",
       "      <td>0 days 06:02:33</td>\n",
       "      <td>51774</td>\n",
       "      <td>5177.400000</td>\n",
       "    </tr>\n",
       "    <tr>\n",
       "      <th>20</th>\n",
       "      <td>680</td>\n",
       "      <td>6</td>\n",
       "      <td>6</td>\n",
       "      <td>0 days 07:06:28</td>\n",
       "      <td>45543</td>\n",
       "      <td>7590.500000</td>\n",
       "    </tr>\n",
       "    <tr>\n",
       "      <th>21</th>\n",
       "      <td>738</td>\n",
       "      <td>16</td>\n",
       "      <td>16</td>\n",
       "      <td>1 days 16:31:21</td>\n",
       "      <td>150619</td>\n",
       "      <td>9413.687500</td>\n",
       "    </tr>\n",
       "    <tr>\n",
       "      <th>22</th>\n",
       "      <td>741</td>\n",
       "      <td>13</td>\n",
       "      <td>13</td>\n",
       "      <td>0 days 22:34:37</td>\n",
       "      <td>113529</td>\n",
       "      <td>8733.000000</td>\n",
       "    </tr>\n",
       "    <tr>\n",
       "      <th>23</th>\n",
       "      <td>742</td>\n",
       "      <td>2</td>\n",
       "      <td>2</td>\n",
       "      <td>0 days 05:32:51</td>\n",
       "      <td>17931</td>\n",
       "      <td>8965.500000</td>\n",
       "    </tr>\n",
       "    <tr>\n",
       "      <th>24</th>\n",
       "      <td>750</td>\n",
       "      <td>5</td>\n",
       "      <td>5</td>\n",
       "      <td>0 days 07:27:53</td>\n",
       "      <td>45243</td>\n",
       "      <td>9048.600000</td>\n",
       "    </tr>\n",
       "    <tr>\n",
       "      <th>25</th>\n",
       "      <td>752</td>\n",
       "      <td>41</td>\n",
       "      <td>41</td>\n",
       "      <td>4 days 13:59:13</td>\n",
       "      <td>660884</td>\n",
       "      <td>16119.121951</td>\n",
       "    </tr>\n",
       "    <tr>\n",
       "      <th>26</th>\n",
       "      <td>758</td>\n",
       "      <td>2</td>\n",
       "      <td>2</td>\n",
       "      <td>0 days 00:58:14</td>\n",
       "      <td>25175</td>\n",
       "      <td>12587.500000</td>\n",
       "    </tr>\n",
       "    <tr>\n",
       "      <th>27</th>\n",
       "      <td>798</td>\n",
       "      <td>1</td>\n",
       "      <td>1</td>\n",
       "      <td>0 days 00:01:04</td>\n",
       "      <td>0</td>\n",
       "      <td>0.000000</td>\n",
       "    </tr>\n",
       "    <tr>\n",
       "      <th>28</th>\n",
       "      <td>80</td>\n",
       "      <td>1</td>\n",
       "      <td>1</td>\n",
       "      <td>0 days 00:26:58</td>\n",
       "      <td>1421</td>\n",
       "      <td>1421.000000</td>\n",
       "    </tr>\n",
       "    <tr>\n",
       "      <th>29</th>\n",
       "      <td>827</td>\n",
       "      <td>1</td>\n",
       "      <td>1</td>\n",
       "      <td>0 days 02:25:48</td>\n",
       "      <td>11060</td>\n",
       "      <td>11060.000000</td>\n",
       "    </tr>\n",
       "    <tr>\n",
       "      <th>30</th>\n",
       "      <td>864</td>\n",
       "      <td>2</td>\n",
       "      <td>2</td>\n",
       "      <td>0 days 07:53:48</td>\n",
       "      <td>8845</td>\n",
       "      <td>4422.500000</td>\n",
       "    </tr>\n",
       "    <tr>\n",
       "      <th>31</th>\n",
       "      <td>877</td>\n",
       "      <td>79</td>\n",
       "      <td>79</td>\n",
       "      <td>12 days 09:09:05</td>\n",
       "      <td>683105</td>\n",
       "      <td>8646.898734</td>\n",
       "    </tr>\n",
       "    <tr>\n",
       "      <th>32</th>\n",
       "      <td>916</td>\n",
       "      <td>1</td>\n",
       "      <td>1</td>\n",
       "      <td>0 days 02:13:48</td>\n",
       "      <td>6740</td>\n",
       "      <td>6740.000000</td>\n",
       "    </tr>\n",
       "    <tr>\n",
       "      <th>33</th>\n",
       "      <td>920</td>\n",
       "      <td>3</td>\n",
       "      <td>3</td>\n",
       "      <td>0 days 05:41:50</td>\n",
       "      <td>59970</td>\n",
       "      <td>19990.000000</td>\n",
       "    </tr>\n",
       "    <tr>\n",
       "      <th>34</th>\n",
       "      <td>934</td>\n",
       "      <td>2</td>\n",
       "      <td>2</td>\n",
       "      <td>0 days 05:48:32</td>\n",
       "      <td>17872</td>\n",
       "      <td>8936.000000</td>\n",
       "    </tr>\n",
       "    <tr>\n",
       "      <th>35</th>\n",
       "      <td>988</td>\n",
       "      <td>1532</td>\n",
       "      <td>1532</td>\n",
       "      <td>168 days 20:04:19</td>\n",
       "      <td>20089150</td>\n",
       "      <td>13113.022193</td>\n",
       "    </tr>\n",
       "    <tr>\n",
       "      <th>36</th>\n",
       "      <td>992</td>\n",
       "      <td>3</td>\n",
       "      <td>3</td>\n",
       "      <td>0 days 00:12:12</td>\n",
       "      <td>1358</td>\n",
       "      <td>452.666667</td>\n",
       "    </tr>\n",
       "  </tbody>\n",
       "</table>\n",
       "</div>"
      ],
      "text/plain": [
       "   UserID  NumberOfStartTime  NumberOfEndTime          Duration  \\\n",
       "0     169                  1                1   0 days 00:20:52   \n",
       "1     206                  2                2   0 days 07:44:04   \n",
       "2     210                  4                4   0 days 01:40:45   \n",
       "3     224                 14               14   1 days 07:13:43   \n",
       "4     231                 16               16   0 days 07:26:54   \n",
       "5     241                 67               67   7 days 10:20:21   \n",
       "6     252                  3                3   0 days 09:14:11   \n",
       "7     303                  6                6   0 days 14:43:17   \n",
       "8     354                  8                8   0 days 02:19:08   \n",
       "9     397                  6                6   0 days 04:27:23   \n",
       "10    415                 14               14   0 days 16:53:16   \n",
       "11    469                 92               92   6 days 01:58:19   \n",
       "12    534                 11               11   1 days 01:35:37   \n",
       "13    544                  1                1   0 days 00:01:04   \n",
       "14    574                  2                2   0 days 00:02:11   \n",
       "15    594                  1                1   0 days 00:27:46   \n",
       "16    599                 19               19   1 days 20:28:05   \n",
       "17    610                  3                3   0 days 01:36:41   \n",
       "18    642                  9                9   0 days 08:49:46   \n",
       "19    678                 10               10   0 days 06:02:33   \n",
       "20    680                  6                6   0 days 07:06:28   \n",
       "21    738                 16               16   1 days 16:31:21   \n",
       "22    741                 13               13   0 days 22:34:37   \n",
       "23    742                  2                2   0 days 05:32:51   \n",
       "24    750                  5                5   0 days 07:27:53   \n",
       "25    752                 41               41   4 days 13:59:13   \n",
       "26    758                  2                2   0 days 00:58:14   \n",
       "27    798                  1                1   0 days 00:01:04   \n",
       "28     80                  1                1   0 days 00:26:58   \n",
       "29    827                  1                1   0 days 02:25:48   \n",
       "30    864                  2                2   0 days 07:53:48   \n",
       "31    877                 79               79  12 days 09:09:05   \n",
       "32    916                  1                1   0 days 02:13:48   \n",
       "33    920                  3                3   0 days 05:41:50   \n",
       "34    934                  2                2   0 days 05:48:32   \n",
       "35    988               1532             1532 168 days 20:04:19   \n",
       "36    992                  3                3   0 days 00:12:12   \n",
       "\n",
       "    ChargingEnergyinWh  EnergyperCycle  \n",
       "0                23016    23016.000000  \n",
       "1                55135    27567.500000  \n",
       "2                 5472     1368.000000  \n",
       "3               193848    13846.285714  \n",
       "4               463972    28998.250000  \n",
       "5               686010    10238.955224  \n",
       "6                27774     9258.000000  \n",
       "7               155173    25862.166667  \n",
       "8                32892     4111.500000  \n",
       "9                88860    14810.000000  \n",
       "10              204850    14632.142857  \n",
       "11              838452     9113.608696  \n",
       "12               80179     7289.000000  \n",
       "13                   0        0.000000  \n",
       "14                   0        0.000000  \n",
       "15               20500    20500.000000  \n",
       "16              203741    10723.210526  \n",
       "17               25522     8507.333333  \n",
       "18               87066     9674.000000  \n",
       "19               51774     5177.400000  \n",
       "20               45543     7590.500000  \n",
       "21              150619     9413.687500  \n",
       "22              113529     8733.000000  \n",
       "23               17931     8965.500000  \n",
       "24               45243     9048.600000  \n",
       "25              660884    16119.121951  \n",
       "26               25175    12587.500000  \n",
       "27                   0        0.000000  \n",
       "28                1421     1421.000000  \n",
       "29               11060    11060.000000  \n",
       "30                8845     4422.500000  \n",
       "31              683105     8646.898734  \n",
       "32                6740     6740.000000  \n",
       "33               59970    19990.000000  \n",
       "34               17872     8936.000000  \n",
       "35            20089150    13113.022193  \n",
       "36                1358      452.666667  "
      ]
     },
     "execution_count": 98,
     "metadata": {},
     "output_type": "execute_result"
    }
   ],
   "source": [
    "#Common data --> merge all \n",
    "#------------------------------------------------------------\n",
    "df_UserSpec = pd.merge(df_ChargeRecords_UserSpecCount,\n",
    "                                  df_ChargeRecords_UserSpecSum,\n",
    "                                  how='left',\n",
    "                                  on=['UserID']\n",
    "                                 )\n",
    "#User ID as an index\n",
    "#df_UserSpec = df_UserSpec.set_index('UserID')\n",
    "\n",
    "#Proximation of charging behaviour --> Charging Energy / Number of Start\n",
    "df_UserSpec['EnergyperCycle'] = df_UserSpec['ChargingEnergyinWh']/ df_UserSpec['NumberOfStartTime']\n",
    "\n",
    "df_UserSpec"
   ]
  },
  {
   "cell_type": "code",
   "execution_count": 109,
   "metadata": {},
   "outputs": [
    {
     "data": {
      "application/vnd.plotly.v1+json": {
       "config": {
        "plotlyServerURL": "https://plot.ly"
       },
       "data": [
        {
         "alignmentgroup": "True",
         "bingroup": "y",
         "histfunc": "sum",
         "hovertemplate": "UserID=%{y}<br>sum of EnergyperCycle=%{x}<extra></extra>",
         "legendgroup": "169",
         "marker": {
          "color": "#1F77B4",
          "pattern": {
           "shape": ""
          }
         },
         "name": "169",
         "offsetgroup": "169",
         "orientation": "h",
         "showlegend": true,
         "type": "histogram",
         "x": [
          23016
         ],
         "xaxis": "x",
         "y": [
          "169"
         ],
         "yaxis": "y"
        },
        {
         "alignmentgroup": "True",
         "bingroup": "y",
         "histfunc": "sum",
         "hovertemplate": "UserID=%{y}<br>sum of EnergyperCycle=%{x}<extra></extra>",
         "legendgroup": "206",
         "marker": {
          "color": "#FF7F0E",
          "pattern": {
           "shape": ""
          }
         },
         "name": "206",
         "offsetgroup": "206",
         "orientation": "h",
         "showlegend": true,
         "type": "histogram",
         "x": [
          27567.5
         ],
         "xaxis": "x",
         "y": [
          "206"
         ],
         "yaxis": "y"
        },
        {
         "alignmentgroup": "True",
         "bingroup": "y",
         "histfunc": "sum",
         "hovertemplate": "UserID=%{y}<br>sum of EnergyperCycle=%{x}<extra></extra>",
         "legendgroup": "210",
         "marker": {
          "color": "#2CA02C",
          "pattern": {
           "shape": ""
          }
         },
         "name": "210",
         "offsetgroup": "210",
         "orientation": "h",
         "showlegend": true,
         "type": "histogram",
         "x": [
          1368
         ],
         "xaxis": "x",
         "y": [
          "210"
         ],
         "yaxis": "y"
        },
        {
         "alignmentgroup": "True",
         "bingroup": "y",
         "histfunc": "sum",
         "hovertemplate": "UserID=%{y}<br>sum of EnergyperCycle=%{x}<extra></extra>",
         "legendgroup": "224",
         "marker": {
          "color": "#D62728",
          "pattern": {
           "shape": ""
          }
         },
         "name": "224",
         "offsetgroup": "224",
         "orientation": "h",
         "showlegend": true,
         "type": "histogram",
         "x": [
          13846.285714285714
         ],
         "xaxis": "x",
         "y": [
          "224"
         ],
         "yaxis": "y"
        },
        {
         "alignmentgroup": "True",
         "bingroup": "y",
         "histfunc": "sum",
         "hovertemplate": "UserID=%{y}<br>sum of EnergyperCycle=%{x}<extra></extra>",
         "legendgroup": "231",
         "marker": {
          "color": "#9467BD",
          "pattern": {
           "shape": ""
          }
         },
         "name": "231",
         "offsetgroup": "231",
         "orientation": "h",
         "showlegend": true,
         "type": "histogram",
         "x": [
          28998.25
         ],
         "xaxis": "x",
         "y": [
          "231"
         ],
         "yaxis": "y"
        },
        {
         "alignmentgroup": "True",
         "bingroup": "y",
         "histfunc": "sum",
         "hovertemplate": "UserID=%{y}<br>sum of EnergyperCycle=%{x}<extra></extra>",
         "legendgroup": "241",
         "marker": {
          "color": "#8C564B",
          "pattern": {
           "shape": ""
          }
         },
         "name": "241",
         "offsetgroup": "241",
         "orientation": "h",
         "showlegend": true,
         "type": "histogram",
         "x": [
          10238.955223880597
         ],
         "xaxis": "x",
         "y": [
          "241"
         ],
         "yaxis": "y"
        },
        {
         "alignmentgroup": "True",
         "bingroup": "y",
         "histfunc": "sum",
         "hovertemplate": "UserID=%{y}<br>sum of EnergyperCycle=%{x}<extra></extra>",
         "legendgroup": "252",
         "marker": {
          "color": "#E377C2",
          "pattern": {
           "shape": ""
          }
         },
         "name": "252",
         "offsetgroup": "252",
         "orientation": "h",
         "showlegend": true,
         "type": "histogram",
         "x": [
          9258
         ],
         "xaxis": "x",
         "y": [
          "252"
         ],
         "yaxis": "y"
        },
        {
         "alignmentgroup": "True",
         "bingroup": "y",
         "histfunc": "sum",
         "hovertemplate": "UserID=%{y}<br>sum of EnergyperCycle=%{x}<extra></extra>",
         "legendgroup": "303",
         "marker": {
          "color": "#7F7F7F",
          "pattern": {
           "shape": ""
          }
         },
         "name": "303",
         "offsetgroup": "303",
         "orientation": "h",
         "showlegend": true,
         "type": "histogram",
         "x": [
          25862.166666666668
         ],
         "xaxis": "x",
         "y": [
          "303"
         ],
         "yaxis": "y"
        },
        {
         "alignmentgroup": "True",
         "bingroup": "y",
         "histfunc": "sum",
         "hovertemplate": "UserID=%{y}<br>sum of EnergyperCycle=%{x}<extra></extra>",
         "legendgroup": "354",
         "marker": {
          "color": "#BCBD22",
          "pattern": {
           "shape": ""
          }
         },
         "name": "354",
         "offsetgroup": "354",
         "orientation": "h",
         "showlegend": true,
         "type": "histogram",
         "x": [
          4111.5
         ],
         "xaxis": "x",
         "y": [
          "354"
         ],
         "yaxis": "y"
        },
        {
         "alignmentgroup": "True",
         "bingroup": "y",
         "histfunc": "sum",
         "hovertemplate": "UserID=%{y}<br>sum of EnergyperCycle=%{x}<extra></extra>",
         "legendgroup": "397",
         "marker": {
          "color": "#17BECF",
          "pattern": {
           "shape": ""
          }
         },
         "name": "397",
         "offsetgroup": "397",
         "orientation": "h",
         "showlegend": true,
         "type": "histogram",
         "x": [
          14810
         ],
         "xaxis": "x",
         "y": [
          "397"
         ],
         "yaxis": "y"
        },
        {
         "alignmentgroup": "True",
         "bingroup": "y",
         "histfunc": "sum",
         "hovertemplate": "UserID=%{y}<br>sum of EnergyperCycle=%{x}<extra></extra>",
         "legendgroup": "415",
         "marker": {
          "color": "#1F77B4",
          "pattern": {
           "shape": ""
          }
         },
         "name": "415",
         "offsetgroup": "415",
         "orientation": "h",
         "showlegend": true,
         "type": "histogram",
         "x": [
          14632.142857142857
         ],
         "xaxis": "x",
         "y": [
          "415"
         ],
         "yaxis": "y"
        },
        {
         "alignmentgroup": "True",
         "bingroup": "y",
         "histfunc": "sum",
         "hovertemplate": "UserID=%{y}<br>sum of EnergyperCycle=%{x}<extra></extra>",
         "legendgroup": "469",
         "marker": {
          "color": "#FF7F0E",
          "pattern": {
           "shape": ""
          }
         },
         "name": "469",
         "offsetgroup": "469",
         "orientation": "h",
         "showlegend": true,
         "type": "histogram",
         "x": [
          9113.608695652174
         ],
         "xaxis": "x",
         "y": [
          "469"
         ],
         "yaxis": "y"
        },
        {
         "alignmentgroup": "True",
         "bingroup": "y",
         "histfunc": "sum",
         "hovertemplate": "UserID=%{y}<br>sum of EnergyperCycle=%{x}<extra></extra>",
         "legendgroup": "534",
         "marker": {
          "color": "#2CA02C",
          "pattern": {
           "shape": ""
          }
         },
         "name": "534",
         "offsetgroup": "534",
         "orientation": "h",
         "showlegend": true,
         "type": "histogram",
         "x": [
          7289
         ],
         "xaxis": "x",
         "y": [
          "534"
         ],
         "yaxis": "y"
        },
        {
         "alignmentgroup": "True",
         "bingroup": "y",
         "histfunc": "sum",
         "hovertemplate": "UserID=%{y}<br>sum of EnergyperCycle=%{x}<extra></extra>",
         "legendgroup": "544",
         "marker": {
          "color": "#D62728",
          "pattern": {
           "shape": ""
          }
         },
         "name": "544",
         "offsetgroup": "544",
         "orientation": "h",
         "showlegend": true,
         "type": "histogram",
         "x": [
          0
         ],
         "xaxis": "x",
         "y": [
          "544"
         ],
         "yaxis": "y"
        },
        {
         "alignmentgroup": "True",
         "bingroup": "y",
         "histfunc": "sum",
         "hovertemplate": "UserID=%{y}<br>sum of EnergyperCycle=%{x}<extra></extra>",
         "legendgroup": "574",
         "marker": {
          "color": "#9467BD",
          "pattern": {
           "shape": ""
          }
         },
         "name": "574",
         "offsetgroup": "574",
         "orientation": "h",
         "showlegend": true,
         "type": "histogram",
         "x": [
          0
         ],
         "xaxis": "x",
         "y": [
          "574"
         ],
         "yaxis": "y"
        },
        {
         "alignmentgroup": "True",
         "bingroup": "y",
         "histfunc": "sum",
         "hovertemplate": "UserID=%{y}<br>sum of EnergyperCycle=%{x}<extra></extra>",
         "legendgroup": "594",
         "marker": {
          "color": "#8C564B",
          "pattern": {
           "shape": ""
          }
         },
         "name": "594",
         "offsetgroup": "594",
         "orientation": "h",
         "showlegend": true,
         "type": "histogram",
         "x": [
          20500
         ],
         "xaxis": "x",
         "y": [
          "594"
         ],
         "yaxis": "y"
        },
        {
         "alignmentgroup": "True",
         "bingroup": "y",
         "histfunc": "sum",
         "hovertemplate": "UserID=%{y}<br>sum of EnergyperCycle=%{x}<extra></extra>",
         "legendgroup": "599",
         "marker": {
          "color": "#E377C2",
          "pattern": {
           "shape": ""
          }
         },
         "name": "599",
         "offsetgroup": "599",
         "orientation": "h",
         "showlegend": true,
         "type": "histogram",
         "x": [
          10723.21052631579
         ],
         "xaxis": "x",
         "y": [
          "599"
         ],
         "yaxis": "y"
        },
        {
         "alignmentgroup": "True",
         "bingroup": "y",
         "histfunc": "sum",
         "hovertemplate": "UserID=%{y}<br>sum of EnergyperCycle=%{x}<extra></extra>",
         "legendgroup": "610",
         "marker": {
          "color": "#7F7F7F",
          "pattern": {
           "shape": ""
          }
         },
         "name": "610",
         "offsetgroup": "610",
         "orientation": "h",
         "showlegend": true,
         "type": "histogram",
         "x": [
          8507.333333333334
         ],
         "xaxis": "x",
         "y": [
          "610"
         ],
         "yaxis": "y"
        },
        {
         "alignmentgroup": "True",
         "bingroup": "y",
         "histfunc": "sum",
         "hovertemplate": "UserID=%{y}<br>sum of EnergyperCycle=%{x}<extra></extra>",
         "legendgroup": "642",
         "marker": {
          "color": "#BCBD22",
          "pattern": {
           "shape": ""
          }
         },
         "name": "642",
         "offsetgroup": "642",
         "orientation": "h",
         "showlegend": true,
         "type": "histogram",
         "x": [
          9674
         ],
         "xaxis": "x",
         "y": [
          "642"
         ],
         "yaxis": "y"
        },
        {
         "alignmentgroup": "True",
         "bingroup": "y",
         "histfunc": "sum",
         "hovertemplate": "UserID=%{y}<br>sum of EnergyperCycle=%{x}<extra></extra>",
         "legendgroup": "678",
         "marker": {
          "color": "#17BECF",
          "pattern": {
           "shape": ""
          }
         },
         "name": "678",
         "offsetgroup": "678",
         "orientation": "h",
         "showlegend": true,
         "type": "histogram",
         "x": [
          5177.4
         ],
         "xaxis": "x",
         "y": [
          "678"
         ],
         "yaxis": "y"
        },
        {
         "alignmentgroup": "True",
         "bingroup": "y",
         "histfunc": "sum",
         "hovertemplate": "UserID=%{y}<br>sum of EnergyperCycle=%{x}<extra></extra>",
         "legendgroup": "680",
         "marker": {
          "color": "#1F77B4",
          "pattern": {
           "shape": ""
          }
         },
         "name": "680",
         "offsetgroup": "680",
         "orientation": "h",
         "showlegend": true,
         "type": "histogram",
         "x": [
          7590.5
         ],
         "xaxis": "x",
         "y": [
          "680"
         ],
         "yaxis": "y"
        },
        {
         "alignmentgroup": "True",
         "bingroup": "y",
         "histfunc": "sum",
         "hovertemplate": "UserID=%{y}<br>sum of EnergyperCycle=%{x}<extra></extra>",
         "legendgroup": "738",
         "marker": {
          "color": "#FF7F0E",
          "pattern": {
           "shape": ""
          }
         },
         "name": "738",
         "offsetgroup": "738",
         "orientation": "h",
         "showlegend": true,
         "type": "histogram",
         "x": [
          9413.6875
         ],
         "xaxis": "x",
         "y": [
          "738"
         ],
         "yaxis": "y"
        },
        {
         "alignmentgroup": "True",
         "bingroup": "y",
         "histfunc": "sum",
         "hovertemplate": "UserID=%{y}<br>sum of EnergyperCycle=%{x}<extra></extra>",
         "legendgroup": "741",
         "marker": {
          "color": "#2CA02C",
          "pattern": {
           "shape": ""
          }
         },
         "name": "741",
         "offsetgroup": "741",
         "orientation": "h",
         "showlegend": true,
         "type": "histogram",
         "x": [
          8733
         ],
         "xaxis": "x",
         "y": [
          "741"
         ],
         "yaxis": "y"
        },
        {
         "alignmentgroup": "True",
         "bingroup": "y",
         "histfunc": "sum",
         "hovertemplate": "UserID=%{y}<br>sum of EnergyperCycle=%{x}<extra></extra>",
         "legendgroup": "742",
         "marker": {
          "color": "#D62728",
          "pattern": {
           "shape": ""
          }
         },
         "name": "742",
         "offsetgroup": "742",
         "orientation": "h",
         "showlegend": true,
         "type": "histogram",
         "x": [
          8965.5
         ],
         "xaxis": "x",
         "y": [
          "742"
         ],
         "yaxis": "y"
        },
        {
         "alignmentgroup": "True",
         "bingroup": "y",
         "histfunc": "sum",
         "hovertemplate": "UserID=%{y}<br>sum of EnergyperCycle=%{x}<extra></extra>",
         "legendgroup": "750",
         "marker": {
          "color": "#9467BD",
          "pattern": {
           "shape": ""
          }
         },
         "name": "750",
         "offsetgroup": "750",
         "orientation": "h",
         "showlegend": true,
         "type": "histogram",
         "x": [
          9048.6
         ],
         "xaxis": "x",
         "y": [
          "750"
         ],
         "yaxis": "y"
        },
        {
         "alignmentgroup": "True",
         "bingroup": "y",
         "histfunc": "sum",
         "hovertemplate": "UserID=%{y}<br>sum of EnergyperCycle=%{x}<extra></extra>",
         "legendgroup": "752",
         "marker": {
          "color": "#8C564B",
          "pattern": {
           "shape": ""
          }
         },
         "name": "752",
         "offsetgroup": "752",
         "orientation": "h",
         "showlegend": true,
         "type": "histogram",
         "x": [
          16119.121951219513
         ],
         "xaxis": "x",
         "y": [
          "752"
         ],
         "yaxis": "y"
        },
        {
         "alignmentgroup": "True",
         "bingroup": "y",
         "histfunc": "sum",
         "hovertemplate": "UserID=%{y}<br>sum of EnergyperCycle=%{x}<extra></extra>",
         "legendgroup": "758",
         "marker": {
          "color": "#E377C2",
          "pattern": {
           "shape": ""
          }
         },
         "name": "758",
         "offsetgroup": "758",
         "orientation": "h",
         "showlegend": true,
         "type": "histogram",
         "x": [
          12587.5
         ],
         "xaxis": "x",
         "y": [
          "758"
         ],
         "yaxis": "y"
        },
        {
         "alignmentgroup": "True",
         "bingroup": "y",
         "histfunc": "sum",
         "hovertemplate": "UserID=%{y}<br>sum of EnergyperCycle=%{x}<extra></extra>",
         "legendgroup": "798",
         "marker": {
          "color": "#7F7F7F",
          "pattern": {
           "shape": ""
          }
         },
         "name": "798",
         "offsetgroup": "798",
         "orientation": "h",
         "showlegend": true,
         "type": "histogram",
         "x": [
          0
         ],
         "xaxis": "x",
         "y": [
          "798"
         ],
         "yaxis": "y"
        },
        {
         "alignmentgroup": "True",
         "bingroup": "y",
         "histfunc": "sum",
         "hovertemplate": "UserID=%{y}<br>sum of EnergyperCycle=%{x}<extra></extra>",
         "legendgroup": "80",
         "marker": {
          "color": "#BCBD22",
          "pattern": {
           "shape": ""
          }
         },
         "name": "80",
         "offsetgroup": "80",
         "orientation": "h",
         "showlegend": true,
         "type": "histogram",
         "x": [
          1421
         ],
         "xaxis": "x",
         "y": [
          "80"
         ],
         "yaxis": "y"
        },
        {
         "alignmentgroup": "True",
         "bingroup": "y",
         "histfunc": "sum",
         "hovertemplate": "UserID=%{y}<br>sum of EnergyperCycle=%{x}<extra></extra>",
         "legendgroup": "827",
         "marker": {
          "color": "#17BECF",
          "pattern": {
           "shape": ""
          }
         },
         "name": "827",
         "offsetgroup": "827",
         "orientation": "h",
         "showlegend": true,
         "type": "histogram",
         "x": [
          11060
         ],
         "xaxis": "x",
         "y": [
          "827"
         ],
         "yaxis": "y"
        },
        {
         "alignmentgroup": "True",
         "bingroup": "y",
         "histfunc": "sum",
         "hovertemplate": "UserID=%{y}<br>sum of EnergyperCycle=%{x}<extra></extra>",
         "legendgroup": "864",
         "marker": {
          "color": "#1F77B4",
          "pattern": {
           "shape": ""
          }
         },
         "name": "864",
         "offsetgroup": "864",
         "orientation": "h",
         "showlegend": true,
         "type": "histogram",
         "x": [
          4422.5
         ],
         "xaxis": "x",
         "y": [
          "864"
         ],
         "yaxis": "y"
        },
        {
         "alignmentgroup": "True",
         "bingroup": "y",
         "histfunc": "sum",
         "hovertemplate": "UserID=%{y}<br>sum of EnergyperCycle=%{x}<extra></extra>",
         "legendgroup": "877",
         "marker": {
          "color": "#FF7F0E",
          "pattern": {
           "shape": ""
          }
         },
         "name": "877",
         "offsetgroup": "877",
         "orientation": "h",
         "showlegend": true,
         "type": "histogram",
         "x": [
          8646.898734177215
         ],
         "xaxis": "x",
         "y": [
          "877"
         ],
         "yaxis": "y"
        },
        {
         "alignmentgroup": "True",
         "bingroup": "y",
         "histfunc": "sum",
         "hovertemplate": "UserID=%{y}<br>sum of EnergyperCycle=%{x}<extra></extra>",
         "legendgroup": "916",
         "marker": {
          "color": "#2CA02C",
          "pattern": {
           "shape": ""
          }
         },
         "name": "916",
         "offsetgroup": "916",
         "orientation": "h",
         "showlegend": true,
         "type": "histogram",
         "x": [
          6740
         ],
         "xaxis": "x",
         "y": [
          "916"
         ],
         "yaxis": "y"
        },
        {
         "alignmentgroup": "True",
         "bingroup": "y",
         "histfunc": "sum",
         "hovertemplate": "UserID=%{y}<br>sum of EnergyperCycle=%{x}<extra></extra>",
         "legendgroup": "920",
         "marker": {
          "color": "#D62728",
          "pattern": {
           "shape": ""
          }
         },
         "name": "920",
         "offsetgroup": "920",
         "orientation": "h",
         "showlegend": true,
         "type": "histogram",
         "x": [
          19990
         ],
         "xaxis": "x",
         "y": [
          "920"
         ],
         "yaxis": "y"
        },
        {
         "alignmentgroup": "True",
         "bingroup": "y",
         "histfunc": "sum",
         "hovertemplate": "UserID=%{y}<br>sum of EnergyperCycle=%{x}<extra></extra>",
         "legendgroup": "934",
         "marker": {
          "color": "#9467BD",
          "pattern": {
           "shape": ""
          }
         },
         "name": "934",
         "offsetgroup": "934",
         "orientation": "h",
         "showlegend": true,
         "type": "histogram",
         "x": [
          8936
         ],
         "xaxis": "x",
         "y": [
          "934"
         ],
         "yaxis": "y"
        },
        {
         "alignmentgroup": "True",
         "bingroup": "y",
         "histfunc": "sum",
         "hovertemplate": "UserID=%{y}<br>sum of EnergyperCycle=%{x}<extra></extra>",
         "legendgroup": "988",
         "marker": {
          "color": "#8C564B",
          "pattern": {
           "shape": ""
          }
         },
         "name": "988",
         "offsetgroup": "988",
         "orientation": "h",
         "showlegend": true,
         "type": "histogram",
         "x": [
          13113.02219321149
         ],
         "xaxis": "x",
         "y": [
          "988"
         ],
         "yaxis": "y"
        },
        {
         "alignmentgroup": "True",
         "bingroup": "y",
         "histfunc": "sum",
         "hovertemplate": "UserID=%{y}<br>sum of EnergyperCycle=%{x}<extra></extra>",
         "legendgroup": "992",
         "marker": {
          "color": "#E377C2",
          "pattern": {
           "shape": ""
          }
         },
         "name": "992",
         "offsetgroup": "992",
         "orientation": "h",
         "showlegend": true,
         "type": "histogram",
         "x": [
          452.6666666666667
         ],
         "xaxis": "x",
         "y": [
          "992"
         ],
         "yaxis": "y"
        }
       ],
       "layout": {
        "barmode": "relative",
        "legend": {
         "title": {
          "text": "UserID"
         },
         "tracegroupgap": 0
        },
        "margin": {
         "t": 60
        },
        "template": {
         "data": {
          "bar": [
           {
            "error_x": {
             "color": "rgb(36,36,36)"
            },
            "error_y": {
             "color": "rgb(36,36,36)"
            },
            "marker": {
             "line": {
              "color": "white",
              "width": 0.5
             },
             "pattern": {
              "fillmode": "overlay",
              "size": 10,
              "solidity": 0.2
             }
            },
            "type": "bar"
           }
          ],
          "barpolar": [
           {
            "marker": {
             "line": {
              "color": "white",
              "width": 0.5
             },
             "pattern": {
              "fillmode": "overlay",
              "size": 10,
              "solidity": 0.2
             }
            },
            "type": "barpolar"
           }
          ],
          "carpet": [
           {
            "aaxis": {
             "endlinecolor": "rgb(36,36,36)",
             "gridcolor": "white",
             "linecolor": "white",
             "minorgridcolor": "white",
             "startlinecolor": "rgb(36,36,36)"
            },
            "baxis": {
             "endlinecolor": "rgb(36,36,36)",
             "gridcolor": "white",
             "linecolor": "white",
             "minorgridcolor": "white",
             "startlinecolor": "rgb(36,36,36)"
            },
            "type": "carpet"
           }
          ],
          "choropleth": [
           {
            "colorbar": {
             "outlinewidth": 1,
             "tickcolor": "rgb(36,36,36)",
             "ticks": "outside"
            },
            "type": "choropleth"
           }
          ],
          "contour": [
           {
            "colorbar": {
             "outlinewidth": 1,
             "tickcolor": "rgb(36,36,36)",
             "ticks": "outside"
            },
            "colorscale": [
             [
              0,
              "#440154"
             ],
             [
              0.1111111111111111,
              "#482878"
             ],
             [
              0.2222222222222222,
              "#3e4989"
             ],
             [
              0.3333333333333333,
              "#31688e"
             ],
             [
              0.4444444444444444,
              "#26828e"
             ],
             [
              0.5555555555555556,
              "#1f9e89"
             ],
             [
              0.6666666666666666,
              "#35b779"
             ],
             [
              0.7777777777777778,
              "#6ece58"
             ],
             [
              0.8888888888888888,
              "#b5de2b"
             ],
             [
              1,
              "#fde725"
             ]
            ],
            "type": "contour"
           }
          ],
          "contourcarpet": [
           {
            "colorbar": {
             "outlinewidth": 1,
             "tickcolor": "rgb(36,36,36)",
             "ticks": "outside"
            },
            "type": "contourcarpet"
           }
          ],
          "heatmap": [
           {
            "colorbar": {
             "outlinewidth": 1,
             "tickcolor": "rgb(36,36,36)",
             "ticks": "outside"
            },
            "colorscale": [
             [
              0,
              "#440154"
             ],
             [
              0.1111111111111111,
              "#482878"
             ],
             [
              0.2222222222222222,
              "#3e4989"
             ],
             [
              0.3333333333333333,
              "#31688e"
             ],
             [
              0.4444444444444444,
              "#26828e"
             ],
             [
              0.5555555555555556,
              "#1f9e89"
             ],
             [
              0.6666666666666666,
              "#35b779"
             ],
             [
              0.7777777777777778,
              "#6ece58"
             ],
             [
              0.8888888888888888,
              "#b5de2b"
             ],
             [
              1,
              "#fde725"
             ]
            ],
            "type": "heatmap"
           }
          ],
          "heatmapgl": [
           {
            "colorbar": {
             "outlinewidth": 1,
             "tickcolor": "rgb(36,36,36)",
             "ticks": "outside"
            },
            "colorscale": [
             [
              0,
              "#440154"
             ],
             [
              0.1111111111111111,
              "#482878"
             ],
             [
              0.2222222222222222,
              "#3e4989"
             ],
             [
              0.3333333333333333,
              "#31688e"
             ],
             [
              0.4444444444444444,
              "#26828e"
             ],
             [
              0.5555555555555556,
              "#1f9e89"
             ],
             [
              0.6666666666666666,
              "#35b779"
             ],
             [
              0.7777777777777778,
              "#6ece58"
             ],
             [
              0.8888888888888888,
              "#b5de2b"
             ],
             [
              1,
              "#fde725"
             ]
            ],
            "type": "heatmapgl"
           }
          ],
          "histogram": [
           {
            "marker": {
             "line": {
              "color": "white",
              "width": 0.6
             }
            },
            "type": "histogram"
           }
          ],
          "histogram2d": [
           {
            "colorbar": {
             "outlinewidth": 1,
             "tickcolor": "rgb(36,36,36)",
             "ticks": "outside"
            },
            "colorscale": [
             [
              0,
              "#440154"
             ],
             [
              0.1111111111111111,
              "#482878"
             ],
             [
              0.2222222222222222,
              "#3e4989"
             ],
             [
              0.3333333333333333,
              "#31688e"
             ],
             [
              0.4444444444444444,
              "#26828e"
             ],
             [
              0.5555555555555556,
              "#1f9e89"
             ],
             [
              0.6666666666666666,
              "#35b779"
             ],
             [
              0.7777777777777778,
              "#6ece58"
             ],
             [
              0.8888888888888888,
              "#b5de2b"
             ],
             [
              1,
              "#fde725"
             ]
            ],
            "type": "histogram2d"
           }
          ],
          "histogram2dcontour": [
           {
            "colorbar": {
             "outlinewidth": 1,
             "tickcolor": "rgb(36,36,36)",
             "ticks": "outside"
            },
            "colorscale": [
             [
              0,
              "#440154"
             ],
             [
              0.1111111111111111,
              "#482878"
             ],
             [
              0.2222222222222222,
              "#3e4989"
             ],
             [
              0.3333333333333333,
              "#31688e"
             ],
             [
              0.4444444444444444,
              "#26828e"
             ],
             [
              0.5555555555555556,
              "#1f9e89"
             ],
             [
              0.6666666666666666,
              "#35b779"
             ],
             [
              0.7777777777777778,
              "#6ece58"
             ],
             [
              0.8888888888888888,
              "#b5de2b"
             ],
             [
              1,
              "#fde725"
             ]
            ],
            "type": "histogram2dcontour"
           }
          ],
          "mesh3d": [
           {
            "colorbar": {
             "outlinewidth": 1,
             "tickcolor": "rgb(36,36,36)",
             "ticks": "outside"
            },
            "type": "mesh3d"
           }
          ],
          "parcoords": [
           {
            "line": {
             "colorbar": {
              "outlinewidth": 1,
              "tickcolor": "rgb(36,36,36)",
              "ticks": "outside"
             }
            },
            "type": "parcoords"
           }
          ],
          "pie": [
           {
            "automargin": true,
            "type": "pie"
           }
          ],
          "scatter": [
           {
            "marker": {
             "colorbar": {
              "outlinewidth": 1,
              "tickcolor": "rgb(36,36,36)",
              "ticks": "outside"
             }
            },
            "type": "scatter"
           }
          ],
          "scatter3d": [
           {
            "line": {
             "colorbar": {
              "outlinewidth": 1,
              "tickcolor": "rgb(36,36,36)",
              "ticks": "outside"
             }
            },
            "marker": {
             "colorbar": {
              "outlinewidth": 1,
              "tickcolor": "rgb(36,36,36)",
              "ticks": "outside"
             }
            },
            "type": "scatter3d"
           }
          ],
          "scattercarpet": [
           {
            "marker": {
             "colorbar": {
              "outlinewidth": 1,
              "tickcolor": "rgb(36,36,36)",
              "ticks": "outside"
             }
            },
            "type": "scattercarpet"
           }
          ],
          "scattergeo": [
           {
            "marker": {
             "colorbar": {
              "outlinewidth": 1,
              "tickcolor": "rgb(36,36,36)",
              "ticks": "outside"
             }
            },
            "type": "scattergeo"
           }
          ],
          "scattergl": [
           {
            "marker": {
             "colorbar": {
              "outlinewidth": 1,
              "tickcolor": "rgb(36,36,36)",
              "ticks": "outside"
             }
            },
            "type": "scattergl"
           }
          ],
          "scattermapbox": [
           {
            "marker": {
             "colorbar": {
              "outlinewidth": 1,
              "tickcolor": "rgb(36,36,36)",
              "ticks": "outside"
             }
            },
            "type": "scattermapbox"
           }
          ],
          "scatterpolar": [
           {
            "marker": {
             "colorbar": {
              "outlinewidth": 1,
              "tickcolor": "rgb(36,36,36)",
              "ticks": "outside"
             }
            },
            "type": "scatterpolar"
           }
          ],
          "scatterpolargl": [
           {
            "marker": {
             "colorbar": {
              "outlinewidth": 1,
              "tickcolor": "rgb(36,36,36)",
              "ticks": "outside"
             }
            },
            "type": "scatterpolargl"
           }
          ],
          "scatterternary": [
           {
            "marker": {
             "colorbar": {
              "outlinewidth": 1,
              "tickcolor": "rgb(36,36,36)",
              "ticks": "outside"
             }
            },
            "type": "scatterternary"
           }
          ],
          "surface": [
           {
            "colorbar": {
             "outlinewidth": 1,
             "tickcolor": "rgb(36,36,36)",
             "ticks": "outside"
            },
            "colorscale": [
             [
              0,
              "#440154"
             ],
             [
              0.1111111111111111,
              "#482878"
             ],
             [
              0.2222222222222222,
              "#3e4989"
             ],
             [
              0.3333333333333333,
              "#31688e"
             ],
             [
              0.4444444444444444,
              "#26828e"
             ],
             [
              0.5555555555555556,
              "#1f9e89"
             ],
             [
              0.6666666666666666,
              "#35b779"
             ],
             [
              0.7777777777777778,
              "#6ece58"
             ],
             [
              0.8888888888888888,
              "#b5de2b"
             ],
             [
              1,
              "#fde725"
             ]
            ],
            "type": "surface"
           }
          ],
          "table": [
           {
            "cells": {
             "fill": {
              "color": "rgb(237,237,237)"
             },
             "line": {
              "color": "white"
             }
            },
            "header": {
             "fill": {
              "color": "rgb(217,217,217)"
             },
             "line": {
              "color": "white"
             }
            },
            "type": "table"
           }
          ]
         },
         "layout": {
          "annotationdefaults": {
           "arrowhead": 0,
           "arrowwidth": 1
          },
          "autotypenumbers": "strict",
          "coloraxis": {
           "colorbar": {
            "outlinewidth": 1,
            "tickcolor": "rgb(36,36,36)",
            "ticks": "outside"
           }
          },
          "colorscale": {
           "diverging": [
            [
             0,
             "rgb(103,0,31)"
            ],
            [
             0.1,
             "rgb(178,24,43)"
            ],
            [
             0.2,
             "rgb(214,96,77)"
            ],
            [
             0.3,
             "rgb(244,165,130)"
            ],
            [
             0.4,
             "rgb(253,219,199)"
            ],
            [
             0.5,
             "rgb(247,247,247)"
            ],
            [
             0.6,
             "rgb(209,229,240)"
            ],
            [
             0.7,
             "rgb(146,197,222)"
            ],
            [
             0.8,
             "rgb(67,147,195)"
            ],
            [
             0.9,
             "rgb(33,102,172)"
            ],
            [
             1,
             "rgb(5,48,97)"
            ]
           ],
           "sequential": [
            [
             0,
             "#440154"
            ],
            [
             0.1111111111111111,
             "#482878"
            ],
            [
             0.2222222222222222,
             "#3e4989"
            ],
            [
             0.3333333333333333,
             "#31688e"
            ],
            [
             0.4444444444444444,
             "#26828e"
            ],
            [
             0.5555555555555556,
             "#1f9e89"
            ],
            [
             0.6666666666666666,
             "#35b779"
            ],
            [
             0.7777777777777778,
             "#6ece58"
            ],
            [
             0.8888888888888888,
             "#b5de2b"
            ],
            [
             1,
             "#fde725"
            ]
           ],
           "sequentialminus": [
            [
             0,
             "#440154"
            ],
            [
             0.1111111111111111,
             "#482878"
            ],
            [
             0.2222222222222222,
             "#3e4989"
            ],
            [
             0.3333333333333333,
             "#31688e"
            ],
            [
             0.4444444444444444,
             "#26828e"
            ],
            [
             0.5555555555555556,
             "#1f9e89"
            ],
            [
             0.6666666666666666,
             "#35b779"
            ],
            [
             0.7777777777777778,
             "#6ece58"
            ],
            [
             0.8888888888888888,
             "#b5de2b"
            ],
            [
             1,
             "#fde725"
            ]
           ]
          },
          "colorway": [
           "#1F77B4",
           "#FF7F0E",
           "#2CA02C",
           "#D62728",
           "#9467BD",
           "#8C564B",
           "#E377C2",
           "#7F7F7F",
           "#BCBD22",
           "#17BECF"
          ],
          "font": {
           "color": "rgb(36,36,36)"
          },
          "geo": {
           "bgcolor": "white",
           "lakecolor": "white",
           "landcolor": "white",
           "showlakes": true,
           "showland": true,
           "subunitcolor": "white"
          },
          "hoverlabel": {
           "align": "left"
          },
          "hovermode": "closest",
          "mapbox": {
           "style": "light"
          },
          "paper_bgcolor": "white",
          "plot_bgcolor": "white",
          "polar": {
           "angularaxis": {
            "gridcolor": "rgb(232,232,232)",
            "linecolor": "rgb(36,36,36)",
            "showgrid": false,
            "showline": true,
            "ticks": "outside"
           },
           "bgcolor": "white",
           "radialaxis": {
            "gridcolor": "rgb(232,232,232)",
            "linecolor": "rgb(36,36,36)",
            "showgrid": false,
            "showline": true,
            "ticks": "outside"
           }
          },
          "scene": {
           "xaxis": {
            "backgroundcolor": "white",
            "gridcolor": "rgb(232,232,232)",
            "gridwidth": 2,
            "linecolor": "rgb(36,36,36)",
            "showbackground": true,
            "showgrid": false,
            "showline": true,
            "ticks": "outside",
            "zeroline": false,
            "zerolinecolor": "rgb(36,36,36)"
           },
           "yaxis": {
            "backgroundcolor": "white",
            "gridcolor": "rgb(232,232,232)",
            "gridwidth": 2,
            "linecolor": "rgb(36,36,36)",
            "showbackground": true,
            "showgrid": false,
            "showline": true,
            "ticks": "outside",
            "zeroline": false,
            "zerolinecolor": "rgb(36,36,36)"
           },
           "zaxis": {
            "backgroundcolor": "white",
            "gridcolor": "rgb(232,232,232)",
            "gridwidth": 2,
            "linecolor": "rgb(36,36,36)",
            "showbackground": true,
            "showgrid": false,
            "showline": true,
            "ticks": "outside",
            "zeroline": false,
            "zerolinecolor": "rgb(36,36,36)"
           }
          },
          "shapedefaults": {
           "fillcolor": "black",
           "line": {
            "width": 0
           },
           "opacity": 0.3
          },
          "ternary": {
           "aaxis": {
            "gridcolor": "rgb(232,232,232)",
            "linecolor": "rgb(36,36,36)",
            "showgrid": false,
            "showline": true,
            "ticks": "outside"
           },
           "baxis": {
            "gridcolor": "rgb(232,232,232)",
            "linecolor": "rgb(36,36,36)",
            "showgrid": false,
            "showline": true,
            "ticks": "outside"
           },
           "bgcolor": "white",
           "caxis": {
            "gridcolor": "rgb(232,232,232)",
            "linecolor": "rgb(36,36,36)",
            "showgrid": false,
            "showline": true,
            "ticks": "outside"
           }
          },
          "title": {
           "x": 0.05
          },
          "xaxis": {
           "automargin": true,
           "gridcolor": "rgb(232,232,232)",
           "linecolor": "rgb(36,36,36)",
           "showgrid": false,
           "showline": true,
           "ticks": "outside",
           "title": {
            "standoff": 15
           },
           "zeroline": false,
           "zerolinecolor": "rgb(36,36,36)"
          },
          "yaxis": {
           "automargin": true,
           "gridcolor": "rgb(232,232,232)",
           "linecolor": "rgb(36,36,36)",
           "showgrid": false,
           "showline": true,
           "ticks": "outside",
           "title": {
            "standoff": 15
           },
           "zeroline": false,
           "zerolinecolor": "rgb(36,36,36)"
          }
         }
        },
        "xaxis": {
         "anchor": "y",
         "domain": [
          0,
          1
         ],
         "title": {
          "text": "sum of EnergyperCycle"
         }
        },
        "yaxis": {
         "anchor": "x",
         "categoryarray": [
          "992",
          "988",
          "934",
          "920",
          "916",
          "877",
          "864",
          "827",
          "80",
          "798",
          "758",
          "752",
          "750",
          "742",
          "741",
          "738",
          "680",
          "678",
          "642",
          "610",
          "599",
          "594",
          "574",
          "544",
          "534",
          "469",
          "415",
          "397",
          "354",
          "303",
          "252",
          "241",
          "231",
          "224",
          "210",
          "206",
          "169"
         ],
         "categoryorder": "array",
         "domain": [
          0,
          1
         ],
         "title": {
          "text": "UserID"
         }
        }
       }
      },
      "text/html": [
       "<div>                            <div id=\"842b44e7-e26c-4672-87b0-bc05b81bd1bd\" class=\"plotly-graph-div\" style=\"height:525px; width:100%;\"></div>            <script type=\"text/javascript\">                require([\"plotly\"], function(Plotly) {                    window.PLOTLYENV=window.PLOTLYENV || {};                                    if (document.getElementById(\"842b44e7-e26c-4672-87b0-bc05b81bd1bd\")) {                    Plotly.newPlot(                        \"842b44e7-e26c-4672-87b0-bc05b81bd1bd\",                        [{\"alignmentgroup\":\"True\",\"bingroup\":\"y\",\"histfunc\":\"sum\",\"hovertemplate\":\"UserID=%{y}<br>sum of EnergyperCycle=%{x}<extra></extra>\",\"legendgroup\":\"169\",\"marker\":{\"color\":\"#1F77B4\",\"pattern\":{\"shape\":\"\"}},\"name\":\"169\",\"offsetgroup\":\"169\",\"orientation\":\"h\",\"showlegend\":true,\"type\":\"histogram\",\"x\":[23016.0],\"xaxis\":\"x\",\"y\":[\"169\"],\"yaxis\":\"y\"},{\"alignmentgroup\":\"True\",\"bingroup\":\"y\",\"histfunc\":\"sum\",\"hovertemplate\":\"UserID=%{y}<br>sum of EnergyperCycle=%{x}<extra></extra>\",\"legendgroup\":\"206\",\"marker\":{\"color\":\"#FF7F0E\",\"pattern\":{\"shape\":\"\"}},\"name\":\"206\",\"offsetgroup\":\"206\",\"orientation\":\"h\",\"showlegend\":true,\"type\":\"histogram\",\"x\":[27567.5],\"xaxis\":\"x\",\"y\":[\"206\"],\"yaxis\":\"y\"},{\"alignmentgroup\":\"True\",\"bingroup\":\"y\",\"histfunc\":\"sum\",\"hovertemplate\":\"UserID=%{y}<br>sum of EnergyperCycle=%{x}<extra></extra>\",\"legendgroup\":\"210\",\"marker\":{\"color\":\"#2CA02C\",\"pattern\":{\"shape\":\"\"}},\"name\":\"210\",\"offsetgroup\":\"210\",\"orientation\":\"h\",\"showlegend\":true,\"type\":\"histogram\",\"x\":[1368.0],\"xaxis\":\"x\",\"y\":[\"210\"],\"yaxis\":\"y\"},{\"alignmentgroup\":\"True\",\"bingroup\":\"y\",\"histfunc\":\"sum\",\"hovertemplate\":\"UserID=%{y}<br>sum of EnergyperCycle=%{x}<extra></extra>\",\"legendgroup\":\"224\",\"marker\":{\"color\":\"#D62728\",\"pattern\":{\"shape\":\"\"}},\"name\":\"224\",\"offsetgroup\":\"224\",\"orientation\":\"h\",\"showlegend\":true,\"type\":\"histogram\",\"x\":[13846.285714285714],\"xaxis\":\"x\",\"y\":[\"224\"],\"yaxis\":\"y\"},{\"alignmentgroup\":\"True\",\"bingroup\":\"y\",\"histfunc\":\"sum\",\"hovertemplate\":\"UserID=%{y}<br>sum of EnergyperCycle=%{x}<extra></extra>\",\"legendgroup\":\"231\",\"marker\":{\"color\":\"#9467BD\",\"pattern\":{\"shape\":\"\"}},\"name\":\"231\",\"offsetgroup\":\"231\",\"orientation\":\"h\",\"showlegend\":true,\"type\":\"histogram\",\"x\":[28998.25],\"xaxis\":\"x\",\"y\":[\"231\"],\"yaxis\":\"y\"},{\"alignmentgroup\":\"True\",\"bingroup\":\"y\",\"histfunc\":\"sum\",\"hovertemplate\":\"UserID=%{y}<br>sum of EnergyperCycle=%{x}<extra></extra>\",\"legendgroup\":\"241\",\"marker\":{\"color\":\"#8C564B\",\"pattern\":{\"shape\":\"\"}},\"name\":\"241\",\"offsetgroup\":\"241\",\"orientation\":\"h\",\"showlegend\":true,\"type\":\"histogram\",\"x\":[10238.955223880597],\"xaxis\":\"x\",\"y\":[\"241\"],\"yaxis\":\"y\"},{\"alignmentgroup\":\"True\",\"bingroup\":\"y\",\"histfunc\":\"sum\",\"hovertemplate\":\"UserID=%{y}<br>sum of EnergyperCycle=%{x}<extra></extra>\",\"legendgroup\":\"252\",\"marker\":{\"color\":\"#E377C2\",\"pattern\":{\"shape\":\"\"}},\"name\":\"252\",\"offsetgroup\":\"252\",\"orientation\":\"h\",\"showlegend\":true,\"type\":\"histogram\",\"x\":[9258.0],\"xaxis\":\"x\",\"y\":[\"252\"],\"yaxis\":\"y\"},{\"alignmentgroup\":\"True\",\"bingroup\":\"y\",\"histfunc\":\"sum\",\"hovertemplate\":\"UserID=%{y}<br>sum of EnergyperCycle=%{x}<extra></extra>\",\"legendgroup\":\"303\",\"marker\":{\"color\":\"#7F7F7F\",\"pattern\":{\"shape\":\"\"}},\"name\":\"303\",\"offsetgroup\":\"303\",\"orientation\":\"h\",\"showlegend\":true,\"type\":\"histogram\",\"x\":[25862.166666666668],\"xaxis\":\"x\",\"y\":[\"303\"],\"yaxis\":\"y\"},{\"alignmentgroup\":\"True\",\"bingroup\":\"y\",\"histfunc\":\"sum\",\"hovertemplate\":\"UserID=%{y}<br>sum of EnergyperCycle=%{x}<extra></extra>\",\"legendgroup\":\"354\",\"marker\":{\"color\":\"#BCBD22\",\"pattern\":{\"shape\":\"\"}},\"name\":\"354\",\"offsetgroup\":\"354\",\"orientation\":\"h\",\"showlegend\":true,\"type\":\"histogram\",\"x\":[4111.5],\"xaxis\":\"x\",\"y\":[\"354\"],\"yaxis\":\"y\"},{\"alignmentgroup\":\"True\",\"bingroup\":\"y\",\"histfunc\":\"sum\",\"hovertemplate\":\"UserID=%{y}<br>sum of EnergyperCycle=%{x}<extra></extra>\",\"legendgroup\":\"397\",\"marker\":{\"color\":\"#17BECF\",\"pattern\":{\"shape\":\"\"}},\"name\":\"397\",\"offsetgroup\":\"397\",\"orientation\":\"h\",\"showlegend\":true,\"type\":\"histogram\",\"x\":[14810.0],\"xaxis\":\"x\",\"y\":[\"397\"],\"yaxis\":\"y\"},{\"alignmentgroup\":\"True\",\"bingroup\":\"y\",\"histfunc\":\"sum\",\"hovertemplate\":\"UserID=%{y}<br>sum of EnergyperCycle=%{x}<extra></extra>\",\"legendgroup\":\"415\",\"marker\":{\"color\":\"#1F77B4\",\"pattern\":{\"shape\":\"\"}},\"name\":\"415\",\"offsetgroup\":\"415\",\"orientation\":\"h\",\"showlegend\":true,\"type\":\"histogram\",\"x\":[14632.142857142857],\"xaxis\":\"x\",\"y\":[\"415\"],\"yaxis\":\"y\"},{\"alignmentgroup\":\"True\",\"bingroup\":\"y\",\"histfunc\":\"sum\",\"hovertemplate\":\"UserID=%{y}<br>sum of EnergyperCycle=%{x}<extra></extra>\",\"legendgroup\":\"469\",\"marker\":{\"color\":\"#FF7F0E\",\"pattern\":{\"shape\":\"\"}},\"name\":\"469\",\"offsetgroup\":\"469\",\"orientation\":\"h\",\"showlegend\":true,\"type\":\"histogram\",\"x\":[9113.608695652174],\"xaxis\":\"x\",\"y\":[\"469\"],\"yaxis\":\"y\"},{\"alignmentgroup\":\"True\",\"bingroup\":\"y\",\"histfunc\":\"sum\",\"hovertemplate\":\"UserID=%{y}<br>sum of EnergyperCycle=%{x}<extra></extra>\",\"legendgroup\":\"534\",\"marker\":{\"color\":\"#2CA02C\",\"pattern\":{\"shape\":\"\"}},\"name\":\"534\",\"offsetgroup\":\"534\",\"orientation\":\"h\",\"showlegend\":true,\"type\":\"histogram\",\"x\":[7289.0],\"xaxis\":\"x\",\"y\":[\"534\"],\"yaxis\":\"y\"},{\"alignmentgroup\":\"True\",\"bingroup\":\"y\",\"histfunc\":\"sum\",\"hovertemplate\":\"UserID=%{y}<br>sum of EnergyperCycle=%{x}<extra></extra>\",\"legendgroup\":\"544\",\"marker\":{\"color\":\"#D62728\",\"pattern\":{\"shape\":\"\"}},\"name\":\"544\",\"offsetgroup\":\"544\",\"orientation\":\"h\",\"showlegend\":true,\"type\":\"histogram\",\"x\":[0.0],\"xaxis\":\"x\",\"y\":[\"544\"],\"yaxis\":\"y\"},{\"alignmentgroup\":\"True\",\"bingroup\":\"y\",\"histfunc\":\"sum\",\"hovertemplate\":\"UserID=%{y}<br>sum of EnergyperCycle=%{x}<extra></extra>\",\"legendgroup\":\"574\",\"marker\":{\"color\":\"#9467BD\",\"pattern\":{\"shape\":\"\"}},\"name\":\"574\",\"offsetgroup\":\"574\",\"orientation\":\"h\",\"showlegend\":true,\"type\":\"histogram\",\"x\":[0.0],\"xaxis\":\"x\",\"y\":[\"574\"],\"yaxis\":\"y\"},{\"alignmentgroup\":\"True\",\"bingroup\":\"y\",\"histfunc\":\"sum\",\"hovertemplate\":\"UserID=%{y}<br>sum of EnergyperCycle=%{x}<extra></extra>\",\"legendgroup\":\"594\",\"marker\":{\"color\":\"#8C564B\",\"pattern\":{\"shape\":\"\"}},\"name\":\"594\",\"offsetgroup\":\"594\",\"orientation\":\"h\",\"showlegend\":true,\"type\":\"histogram\",\"x\":[20500.0],\"xaxis\":\"x\",\"y\":[\"594\"],\"yaxis\":\"y\"},{\"alignmentgroup\":\"True\",\"bingroup\":\"y\",\"histfunc\":\"sum\",\"hovertemplate\":\"UserID=%{y}<br>sum of EnergyperCycle=%{x}<extra></extra>\",\"legendgroup\":\"599\",\"marker\":{\"color\":\"#E377C2\",\"pattern\":{\"shape\":\"\"}},\"name\":\"599\",\"offsetgroup\":\"599\",\"orientation\":\"h\",\"showlegend\":true,\"type\":\"histogram\",\"x\":[10723.21052631579],\"xaxis\":\"x\",\"y\":[\"599\"],\"yaxis\":\"y\"},{\"alignmentgroup\":\"True\",\"bingroup\":\"y\",\"histfunc\":\"sum\",\"hovertemplate\":\"UserID=%{y}<br>sum of EnergyperCycle=%{x}<extra></extra>\",\"legendgroup\":\"610\",\"marker\":{\"color\":\"#7F7F7F\",\"pattern\":{\"shape\":\"\"}},\"name\":\"610\",\"offsetgroup\":\"610\",\"orientation\":\"h\",\"showlegend\":true,\"type\":\"histogram\",\"x\":[8507.333333333334],\"xaxis\":\"x\",\"y\":[\"610\"],\"yaxis\":\"y\"},{\"alignmentgroup\":\"True\",\"bingroup\":\"y\",\"histfunc\":\"sum\",\"hovertemplate\":\"UserID=%{y}<br>sum of EnergyperCycle=%{x}<extra></extra>\",\"legendgroup\":\"642\",\"marker\":{\"color\":\"#BCBD22\",\"pattern\":{\"shape\":\"\"}},\"name\":\"642\",\"offsetgroup\":\"642\",\"orientation\":\"h\",\"showlegend\":true,\"type\":\"histogram\",\"x\":[9674.0],\"xaxis\":\"x\",\"y\":[\"642\"],\"yaxis\":\"y\"},{\"alignmentgroup\":\"True\",\"bingroup\":\"y\",\"histfunc\":\"sum\",\"hovertemplate\":\"UserID=%{y}<br>sum of EnergyperCycle=%{x}<extra></extra>\",\"legendgroup\":\"678\",\"marker\":{\"color\":\"#17BECF\",\"pattern\":{\"shape\":\"\"}},\"name\":\"678\",\"offsetgroup\":\"678\",\"orientation\":\"h\",\"showlegend\":true,\"type\":\"histogram\",\"x\":[5177.4],\"xaxis\":\"x\",\"y\":[\"678\"],\"yaxis\":\"y\"},{\"alignmentgroup\":\"True\",\"bingroup\":\"y\",\"histfunc\":\"sum\",\"hovertemplate\":\"UserID=%{y}<br>sum of EnergyperCycle=%{x}<extra></extra>\",\"legendgroup\":\"680\",\"marker\":{\"color\":\"#1F77B4\",\"pattern\":{\"shape\":\"\"}},\"name\":\"680\",\"offsetgroup\":\"680\",\"orientation\":\"h\",\"showlegend\":true,\"type\":\"histogram\",\"x\":[7590.5],\"xaxis\":\"x\",\"y\":[\"680\"],\"yaxis\":\"y\"},{\"alignmentgroup\":\"True\",\"bingroup\":\"y\",\"histfunc\":\"sum\",\"hovertemplate\":\"UserID=%{y}<br>sum of EnergyperCycle=%{x}<extra></extra>\",\"legendgroup\":\"738\",\"marker\":{\"color\":\"#FF7F0E\",\"pattern\":{\"shape\":\"\"}},\"name\":\"738\",\"offsetgroup\":\"738\",\"orientation\":\"h\",\"showlegend\":true,\"type\":\"histogram\",\"x\":[9413.6875],\"xaxis\":\"x\",\"y\":[\"738\"],\"yaxis\":\"y\"},{\"alignmentgroup\":\"True\",\"bingroup\":\"y\",\"histfunc\":\"sum\",\"hovertemplate\":\"UserID=%{y}<br>sum of EnergyperCycle=%{x}<extra></extra>\",\"legendgroup\":\"741\",\"marker\":{\"color\":\"#2CA02C\",\"pattern\":{\"shape\":\"\"}},\"name\":\"741\",\"offsetgroup\":\"741\",\"orientation\":\"h\",\"showlegend\":true,\"type\":\"histogram\",\"x\":[8733.0],\"xaxis\":\"x\",\"y\":[\"741\"],\"yaxis\":\"y\"},{\"alignmentgroup\":\"True\",\"bingroup\":\"y\",\"histfunc\":\"sum\",\"hovertemplate\":\"UserID=%{y}<br>sum of EnergyperCycle=%{x}<extra></extra>\",\"legendgroup\":\"742\",\"marker\":{\"color\":\"#D62728\",\"pattern\":{\"shape\":\"\"}},\"name\":\"742\",\"offsetgroup\":\"742\",\"orientation\":\"h\",\"showlegend\":true,\"type\":\"histogram\",\"x\":[8965.5],\"xaxis\":\"x\",\"y\":[\"742\"],\"yaxis\":\"y\"},{\"alignmentgroup\":\"True\",\"bingroup\":\"y\",\"histfunc\":\"sum\",\"hovertemplate\":\"UserID=%{y}<br>sum of EnergyperCycle=%{x}<extra></extra>\",\"legendgroup\":\"750\",\"marker\":{\"color\":\"#9467BD\",\"pattern\":{\"shape\":\"\"}},\"name\":\"750\",\"offsetgroup\":\"750\",\"orientation\":\"h\",\"showlegend\":true,\"type\":\"histogram\",\"x\":[9048.6],\"xaxis\":\"x\",\"y\":[\"750\"],\"yaxis\":\"y\"},{\"alignmentgroup\":\"True\",\"bingroup\":\"y\",\"histfunc\":\"sum\",\"hovertemplate\":\"UserID=%{y}<br>sum of EnergyperCycle=%{x}<extra></extra>\",\"legendgroup\":\"752\",\"marker\":{\"color\":\"#8C564B\",\"pattern\":{\"shape\":\"\"}},\"name\":\"752\",\"offsetgroup\":\"752\",\"orientation\":\"h\",\"showlegend\":true,\"type\":\"histogram\",\"x\":[16119.121951219513],\"xaxis\":\"x\",\"y\":[\"752\"],\"yaxis\":\"y\"},{\"alignmentgroup\":\"True\",\"bingroup\":\"y\",\"histfunc\":\"sum\",\"hovertemplate\":\"UserID=%{y}<br>sum of EnergyperCycle=%{x}<extra></extra>\",\"legendgroup\":\"758\",\"marker\":{\"color\":\"#E377C2\",\"pattern\":{\"shape\":\"\"}},\"name\":\"758\",\"offsetgroup\":\"758\",\"orientation\":\"h\",\"showlegend\":true,\"type\":\"histogram\",\"x\":[12587.5],\"xaxis\":\"x\",\"y\":[\"758\"],\"yaxis\":\"y\"},{\"alignmentgroup\":\"True\",\"bingroup\":\"y\",\"histfunc\":\"sum\",\"hovertemplate\":\"UserID=%{y}<br>sum of EnergyperCycle=%{x}<extra></extra>\",\"legendgroup\":\"798\",\"marker\":{\"color\":\"#7F7F7F\",\"pattern\":{\"shape\":\"\"}},\"name\":\"798\",\"offsetgroup\":\"798\",\"orientation\":\"h\",\"showlegend\":true,\"type\":\"histogram\",\"x\":[0.0],\"xaxis\":\"x\",\"y\":[\"798\"],\"yaxis\":\"y\"},{\"alignmentgroup\":\"True\",\"bingroup\":\"y\",\"histfunc\":\"sum\",\"hovertemplate\":\"UserID=%{y}<br>sum of EnergyperCycle=%{x}<extra></extra>\",\"legendgroup\":\"80\",\"marker\":{\"color\":\"#BCBD22\",\"pattern\":{\"shape\":\"\"}},\"name\":\"80\",\"offsetgroup\":\"80\",\"orientation\":\"h\",\"showlegend\":true,\"type\":\"histogram\",\"x\":[1421.0],\"xaxis\":\"x\",\"y\":[\"80\"],\"yaxis\":\"y\"},{\"alignmentgroup\":\"True\",\"bingroup\":\"y\",\"histfunc\":\"sum\",\"hovertemplate\":\"UserID=%{y}<br>sum of EnergyperCycle=%{x}<extra></extra>\",\"legendgroup\":\"827\",\"marker\":{\"color\":\"#17BECF\",\"pattern\":{\"shape\":\"\"}},\"name\":\"827\",\"offsetgroup\":\"827\",\"orientation\":\"h\",\"showlegend\":true,\"type\":\"histogram\",\"x\":[11060.0],\"xaxis\":\"x\",\"y\":[\"827\"],\"yaxis\":\"y\"},{\"alignmentgroup\":\"True\",\"bingroup\":\"y\",\"histfunc\":\"sum\",\"hovertemplate\":\"UserID=%{y}<br>sum of EnergyperCycle=%{x}<extra></extra>\",\"legendgroup\":\"864\",\"marker\":{\"color\":\"#1F77B4\",\"pattern\":{\"shape\":\"\"}},\"name\":\"864\",\"offsetgroup\":\"864\",\"orientation\":\"h\",\"showlegend\":true,\"type\":\"histogram\",\"x\":[4422.5],\"xaxis\":\"x\",\"y\":[\"864\"],\"yaxis\":\"y\"},{\"alignmentgroup\":\"True\",\"bingroup\":\"y\",\"histfunc\":\"sum\",\"hovertemplate\":\"UserID=%{y}<br>sum of EnergyperCycle=%{x}<extra></extra>\",\"legendgroup\":\"877\",\"marker\":{\"color\":\"#FF7F0E\",\"pattern\":{\"shape\":\"\"}},\"name\":\"877\",\"offsetgroup\":\"877\",\"orientation\":\"h\",\"showlegend\":true,\"type\":\"histogram\",\"x\":[8646.898734177215],\"xaxis\":\"x\",\"y\":[\"877\"],\"yaxis\":\"y\"},{\"alignmentgroup\":\"True\",\"bingroup\":\"y\",\"histfunc\":\"sum\",\"hovertemplate\":\"UserID=%{y}<br>sum of EnergyperCycle=%{x}<extra></extra>\",\"legendgroup\":\"916\",\"marker\":{\"color\":\"#2CA02C\",\"pattern\":{\"shape\":\"\"}},\"name\":\"916\",\"offsetgroup\":\"916\",\"orientation\":\"h\",\"showlegend\":true,\"type\":\"histogram\",\"x\":[6740.0],\"xaxis\":\"x\",\"y\":[\"916\"],\"yaxis\":\"y\"},{\"alignmentgroup\":\"True\",\"bingroup\":\"y\",\"histfunc\":\"sum\",\"hovertemplate\":\"UserID=%{y}<br>sum of EnergyperCycle=%{x}<extra></extra>\",\"legendgroup\":\"920\",\"marker\":{\"color\":\"#D62728\",\"pattern\":{\"shape\":\"\"}},\"name\":\"920\",\"offsetgroup\":\"920\",\"orientation\":\"h\",\"showlegend\":true,\"type\":\"histogram\",\"x\":[19990.0],\"xaxis\":\"x\",\"y\":[\"920\"],\"yaxis\":\"y\"},{\"alignmentgroup\":\"True\",\"bingroup\":\"y\",\"histfunc\":\"sum\",\"hovertemplate\":\"UserID=%{y}<br>sum of EnergyperCycle=%{x}<extra></extra>\",\"legendgroup\":\"934\",\"marker\":{\"color\":\"#9467BD\",\"pattern\":{\"shape\":\"\"}},\"name\":\"934\",\"offsetgroup\":\"934\",\"orientation\":\"h\",\"showlegend\":true,\"type\":\"histogram\",\"x\":[8936.0],\"xaxis\":\"x\",\"y\":[\"934\"],\"yaxis\":\"y\"},{\"alignmentgroup\":\"True\",\"bingroup\":\"y\",\"histfunc\":\"sum\",\"hovertemplate\":\"UserID=%{y}<br>sum of EnergyperCycle=%{x}<extra></extra>\",\"legendgroup\":\"988\",\"marker\":{\"color\":\"#8C564B\",\"pattern\":{\"shape\":\"\"}},\"name\":\"988\",\"offsetgroup\":\"988\",\"orientation\":\"h\",\"showlegend\":true,\"type\":\"histogram\",\"x\":[13113.02219321149],\"xaxis\":\"x\",\"y\":[\"988\"],\"yaxis\":\"y\"},{\"alignmentgroup\":\"True\",\"bingroup\":\"y\",\"histfunc\":\"sum\",\"hovertemplate\":\"UserID=%{y}<br>sum of EnergyperCycle=%{x}<extra></extra>\",\"legendgroup\":\"992\",\"marker\":{\"color\":\"#E377C2\",\"pattern\":{\"shape\":\"\"}},\"name\":\"992\",\"offsetgroup\":\"992\",\"orientation\":\"h\",\"showlegend\":true,\"type\":\"histogram\",\"x\":[452.6666666666667],\"xaxis\":\"x\",\"y\":[\"992\"],\"yaxis\":\"y\"}],                        {\"barmode\":\"relative\",\"legend\":{\"title\":{\"text\":\"UserID\"},\"tracegroupgap\":0},\"margin\":{\"t\":60},\"template\":{\"data\":{\"bar\":[{\"error_x\":{\"color\":\"rgb(36,36,36)\"},\"error_y\":{\"color\":\"rgb(36,36,36)\"},\"marker\":{\"line\":{\"color\":\"white\",\"width\":0.5},\"pattern\":{\"fillmode\":\"overlay\",\"size\":10,\"solidity\":0.2}},\"type\":\"bar\"}],\"barpolar\":[{\"marker\":{\"line\":{\"color\":\"white\",\"width\":0.5},\"pattern\":{\"fillmode\":\"overlay\",\"size\":10,\"solidity\":0.2}},\"type\":\"barpolar\"}],\"carpet\":[{\"aaxis\":{\"endlinecolor\":\"rgb(36,36,36)\",\"gridcolor\":\"white\",\"linecolor\":\"white\",\"minorgridcolor\":\"white\",\"startlinecolor\":\"rgb(36,36,36)\"},\"baxis\":{\"endlinecolor\":\"rgb(36,36,36)\",\"gridcolor\":\"white\",\"linecolor\":\"white\",\"minorgridcolor\":\"white\",\"startlinecolor\":\"rgb(36,36,36)\"},\"type\":\"carpet\"}],\"choropleth\":[{\"colorbar\":{\"outlinewidth\":1,\"tickcolor\":\"rgb(36,36,36)\",\"ticks\":\"outside\"},\"type\":\"choropleth\"}],\"contour\":[{\"colorbar\":{\"outlinewidth\":1,\"tickcolor\":\"rgb(36,36,36)\",\"ticks\":\"outside\"},\"colorscale\":[[0.0,\"#440154\"],[0.1111111111111111,\"#482878\"],[0.2222222222222222,\"#3e4989\"],[0.3333333333333333,\"#31688e\"],[0.4444444444444444,\"#26828e\"],[0.5555555555555556,\"#1f9e89\"],[0.6666666666666666,\"#35b779\"],[0.7777777777777778,\"#6ece58\"],[0.8888888888888888,\"#b5de2b\"],[1.0,\"#fde725\"]],\"type\":\"contour\"}],\"contourcarpet\":[{\"colorbar\":{\"outlinewidth\":1,\"tickcolor\":\"rgb(36,36,36)\",\"ticks\":\"outside\"},\"type\":\"contourcarpet\"}],\"heatmap\":[{\"colorbar\":{\"outlinewidth\":1,\"tickcolor\":\"rgb(36,36,36)\",\"ticks\":\"outside\"},\"colorscale\":[[0.0,\"#440154\"],[0.1111111111111111,\"#482878\"],[0.2222222222222222,\"#3e4989\"],[0.3333333333333333,\"#31688e\"],[0.4444444444444444,\"#26828e\"],[0.5555555555555556,\"#1f9e89\"],[0.6666666666666666,\"#35b779\"],[0.7777777777777778,\"#6ece58\"],[0.8888888888888888,\"#b5de2b\"],[1.0,\"#fde725\"]],\"type\":\"heatmap\"}],\"heatmapgl\":[{\"colorbar\":{\"outlinewidth\":1,\"tickcolor\":\"rgb(36,36,36)\",\"ticks\":\"outside\"},\"colorscale\":[[0.0,\"#440154\"],[0.1111111111111111,\"#482878\"],[0.2222222222222222,\"#3e4989\"],[0.3333333333333333,\"#31688e\"],[0.4444444444444444,\"#26828e\"],[0.5555555555555556,\"#1f9e89\"],[0.6666666666666666,\"#35b779\"],[0.7777777777777778,\"#6ece58\"],[0.8888888888888888,\"#b5de2b\"],[1.0,\"#fde725\"]],\"type\":\"heatmapgl\"}],\"histogram\":[{\"marker\":{\"line\":{\"color\":\"white\",\"width\":0.6}},\"type\":\"histogram\"}],\"histogram2d\":[{\"colorbar\":{\"outlinewidth\":1,\"tickcolor\":\"rgb(36,36,36)\",\"ticks\":\"outside\"},\"colorscale\":[[0.0,\"#440154\"],[0.1111111111111111,\"#482878\"],[0.2222222222222222,\"#3e4989\"],[0.3333333333333333,\"#31688e\"],[0.4444444444444444,\"#26828e\"],[0.5555555555555556,\"#1f9e89\"],[0.6666666666666666,\"#35b779\"],[0.7777777777777778,\"#6ece58\"],[0.8888888888888888,\"#b5de2b\"],[1.0,\"#fde725\"]],\"type\":\"histogram2d\"}],\"histogram2dcontour\":[{\"colorbar\":{\"outlinewidth\":1,\"tickcolor\":\"rgb(36,36,36)\",\"ticks\":\"outside\"},\"colorscale\":[[0.0,\"#440154\"],[0.1111111111111111,\"#482878\"],[0.2222222222222222,\"#3e4989\"],[0.3333333333333333,\"#31688e\"],[0.4444444444444444,\"#26828e\"],[0.5555555555555556,\"#1f9e89\"],[0.6666666666666666,\"#35b779\"],[0.7777777777777778,\"#6ece58\"],[0.8888888888888888,\"#b5de2b\"],[1.0,\"#fde725\"]],\"type\":\"histogram2dcontour\"}],\"mesh3d\":[{\"colorbar\":{\"outlinewidth\":1,\"tickcolor\":\"rgb(36,36,36)\",\"ticks\":\"outside\"},\"type\":\"mesh3d\"}],\"parcoords\":[{\"line\":{\"colorbar\":{\"outlinewidth\":1,\"tickcolor\":\"rgb(36,36,36)\",\"ticks\":\"outside\"}},\"type\":\"parcoords\"}],\"pie\":[{\"automargin\":true,\"type\":\"pie\"}],\"scatter\":[{\"marker\":{\"colorbar\":{\"outlinewidth\":1,\"tickcolor\":\"rgb(36,36,36)\",\"ticks\":\"outside\"}},\"type\":\"scatter\"}],\"scatter3d\":[{\"line\":{\"colorbar\":{\"outlinewidth\":1,\"tickcolor\":\"rgb(36,36,36)\",\"ticks\":\"outside\"}},\"marker\":{\"colorbar\":{\"outlinewidth\":1,\"tickcolor\":\"rgb(36,36,36)\",\"ticks\":\"outside\"}},\"type\":\"scatter3d\"}],\"scattercarpet\":[{\"marker\":{\"colorbar\":{\"outlinewidth\":1,\"tickcolor\":\"rgb(36,36,36)\",\"ticks\":\"outside\"}},\"type\":\"scattercarpet\"}],\"scattergeo\":[{\"marker\":{\"colorbar\":{\"outlinewidth\":1,\"tickcolor\":\"rgb(36,36,36)\",\"ticks\":\"outside\"}},\"type\":\"scattergeo\"}],\"scattergl\":[{\"marker\":{\"colorbar\":{\"outlinewidth\":1,\"tickcolor\":\"rgb(36,36,36)\",\"ticks\":\"outside\"}},\"type\":\"scattergl\"}],\"scattermapbox\":[{\"marker\":{\"colorbar\":{\"outlinewidth\":1,\"tickcolor\":\"rgb(36,36,36)\",\"ticks\":\"outside\"}},\"type\":\"scattermapbox\"}],\"scatterpolar\":[{\"marker\":{\"colorbar\":{\"outlinewidth\":1,\"tickcolor\":\"rgb(36,36,36)\",\"ticks\":\"outside\"}},\"type\":\"scatterpolar\"}],\"scatterpolargl\":[{\"marker\":{\"colorbar\":{\"outlinewidth\":1,\"tickcolor\":\"rgb(36,36,36)\",\"ticks\":\"outside\"}},\"type\":\"scatterpolargl\"}],\"scatterternary\":[{\"marker\":{\"colorbar\":{\"outlinewidth\":1,\"tickcolor\":\"rgb(36,36,36)\",\"ticks\":\"outside\"}},\"type\":\"scatterternary\"}],\"surface\":[{\"colorbar\":{\"outlinewidth\":1,\"tickcolor\":\"rgb(36,36,36)\",\"ticks\":\"outside\"},\"colorscale\":[[0.0,\"#440154\"],[0.1111111111111111,\"#482878\"],[0.2222222222222222,\"#3e4989\"],[0.3333333333333333,\"#31688e\"],[0.4444444444444444,\"#26828e\"],[0.5555555555555556,\"#1f9e89\"],[0.6666666666666666,\"#35b779\"],[0.7777777777777778,\"#6ece58\"],[0.8888888888888888,\"#b5de2b\"],[1.0,\"#fde725\"]],\"type\":\"surface\"}],\"table\":[{\"cells\":{\"fill\":{\"color\":\"rgb(237,237,237)\"},\"line\":{\"color\":\"white\"}},\"header\":{\"fill\":{\"color\":\"rgb(217,217,217)\"},\"line\":{\"color\":\"white\"}},\"type\":\"table\"}]},\"layout\":{\"annotationdefaults\":{\"arrowhead\":0,\"arrowwidth\":1},\"autotypenumbers\":\"strict\",\"coloraxis\":{\"colorbar\":{\"outlinewidth\":1,\"tickcolor\":\"rgb(36,36,36)\",\"ticks\":\"outside\"}},\"colorscale\":{\"diverging\":[[0.0,\"rgb(103,0,31)\"],[0.1,\"rgb(178,24,43)\"],[0.2,\"rgb(214,96,77)\"],[0.3,\"rgb(244,165,130)\"],[0.4,\"rgb(253,219,199)\"],[0.5,\"rgb(247,247,247)\"],[0.6,\"rgb(209,229,240)\"],[0.7,\"rgb(146,197,222)\"],[0.8,\"rgb(67,147,195)\"],[0.9,\"rgb(33,102,172)\"],[1.0,\"rgb(5,48,97)\"]],\"sequential\":[[0.0,\"#440154\"],[0.1111111111111111,\"#482878\"],[0.2222222222222222,\"#3e4989\"],[0.3333333333333333,\"#31688e\"],[0.4444444444444444,\"#26828e\"],[0.5555555555555556,\"#1f9e89\"],[0.6666666666666666,\"#35b779\"],[0.7777777777777778,\"#6ece58\"],[0.8888888888888888,\"#b5de2b\"],[1.0,\"#fde725\"]],\"sequentialminus\":[[0.0,\"#440154\"],[0.1111111111111111,\"#482878\"],[0.2222222222222222,\"#3e4989\"],[0.3333333333333333,\"#31688e\"],[0.4444444444444444,\"#26828e\"],[0.5555555555555556,\"#1f9e89\"],[0.6666666666666666,\"#35b779\"],[0.7777777777777778,\"#6ece58\"],[0.8888888888888888,\"#b5de2b\"],[1.0,\"#fde725\"]]},\"colorway\":[\"#1F77B4\",\"#FF7F0E\",\"#2CA02C\",\"#D62728\",\"#9467BD\",\"#8C564B\",\"#E377C2\",\"#7F7F7F\",\"#BCBD22\",\"#17BECF\"],\"font\":{\"color\":\"rgb(36,36,36)\"},\"geo\":{\"bgcolor\":\"white\",\"lakecolor\":\"white\",\"landcolor\":\"white\",\"showlakes\":true,\"showland\":true,\"subunitcolor\":\"white\"},\"hoverlabel\":{\"align\":\"left\"},\"hovermode\":\"closest\",\"mapbox\":{\"style\":\"light\"},\"paper_bgcolor\":\"white\",\"plot_bgcolor\":\"white\",\"polar\":{\"angularaxis\":{\"gridcolor\":\"rgb(232,232,232)\",\"linecolor\":\"rgb(36,36,36)\",\"showgrid\":false,\"showline\":true,\"ticks\":\"outside\"},\"bgcolor\":\"white\",\"radialaxis\":{\"gridcolor\":\"rgb(232,232,232)\",\"linecolor\":\"rgb(36,36,36)\",\"showgrid\":false,\"showline\":true,\"ticks\":\"outside\"}},\"scene\":{\"xaxis\":{\"backgroundcolor\":\"white\",\"gridcolor\":\"rgb(232,232,232)\",\"gridwidth\":2,\"linecolor\":\"rgb(36,36,36)\",\"showbackground\":true,\"showgrid\":false,\"showline\":true,\"ticks\":\"outside\",\"zeroline\":false,\"zerolinecolor\":\"rgb(36,36,36)\"},\"yaxis\":{\"backgroundcolor\":\"white\",\"gridcolor\":\"rgb(232,232,232)\",\"gridwidth\":2,\"linecolor\":\"rgb(36,36,36)\",\"showbackground\":true,\"showgrid\":false,\"showline\":true,\"ticks\":\"outside\",\"zeroline\":false,\"zerolinecolor\":\"rgb(36,36,36)\"},\"zaxis\":{\"backgroundcolor\":\"white\",\"gridcolor\":\"rgb(232,232,232)\",\"gridwidth\":2,\"linecolor\":\"rgb(36,36,36)\",\"showbackground\":true,\"showgrid\":false,\"showline\":true,\"ticks\":\"outside\",\"zeroline\":false,\"zerolinecolor\":\"rgb(36,36,36)\"}},\"shapedefaults\":{\"fillcolor\":\"black\",\"line\":{\"width\":0},\"opacity\":0.3},\"ternary\":{\"aaxis\":{\"gridcolor\":\"rgb(232,232,232)\",\"linecolor\":\"rgb(36,36,36)\",\"showgrid\":false,\"showline\":true,\"ticks\":\"outside\"},\"baxis\":{\"gridcolor\":\"rgb(232,232,232)\",\"linecolor\":\"rgb(36,36,36)\",\"showgrid\":false,\"showline\":true,\"ticks\":\"outside\"},\"bgcolor\":\"white\",\"caxis\":{\"gridcolor\":\"rgb(232,232,232)\",\"linecolor\":\"rgb(36,36,36)\",\"showgrid\":false,\"showline\":true,\"ticks\":\"outside\"}},\"title\":{\"x\":0.05},\"xaxis\":{\"automargin\":true,\"gridcolor\":\"rgb(232,232,232)\",\"linecolor\":\"rgb(36,36,36)\",\"showgrid\":false,\"showline\":true,\"ticks\":\"outside\",\"title\":{\"standoff\":15},\"zeroline\":false,\"zerolinecolor\":\"rgb(36,36,36)\"},\"yaxis\":{\"automargin\":true,\"gridcolor\":\"rgb(232,232,232)\",\"linecolor\":\"rgb(36,36,36)\",\"showgrid\":false,\"showline\":true,\"ticks\":\"outside\",\"title\":{\"standoff\":15},\"zeroline\":false,\"zerolinecolor\":\"rgb(36,36,36)\"}}},\"xaxis\":{\"anchor\":\"y\",\"domain\":[0.0,1.0],\"title\":{\"text\":\"sum of EnergyperCycle\"}},\"yaxis\":{\"anchor\":\"x\",\"categoryarray\":[\"992\",\"988\",\"934\",\"920\",\"916\",\"877\",\"864\",\"827\",\"80\",\"798\",\"758\",\"752\",\"750\",\"742\",\"741\",\"738\",\"680\",\"678\",\"642\",\"610\",\"599\",\"594\",\"574\",\"544\",\"534\",\"469\",\"415\",\"397\",\"354\",\"303\",\"252\",\"241\",\"231\",\"224\",\"210\",\"206\",\"169\"],\"categoryorder\":\"array\",\"domain\":[0.0,1.0],\"title\":{\"text\":\"UserID\"}}},                        {\"responsive\": true}                    ).then(function(){\n",
       "                            \n",
       "var gd = document.getElementById('842b44e7-e26c-4672-87b0-bc05b81bd1bd');\n",
       "var x = new MutationObserver(function (mutations, observer) {{\n",
       "        var display = window.getComputedStyle(gd).display;\n",
       "        if (!display || display === 'none') {{\n",
       "            console.log([gd, 'removed!']);\n",
       "            Plotly.purge(gd);\n",
       "            observer.disconnect();\n",
       "        }}\n",
       "}});\n",
       "\n",
       "// Listen for the removal of the full notebook cells\n",
       "var notebookContainer = gd.closest('#notebook-container');\n",
       "if (notebookContainer) {{\n",
       "    x.observe(notebookContainer, {childList: true});\n",
       "}}\n",
       "\n",
       "// Listen for the clearing of the current output cell\n",
       "var outputEl = gd.closest('.output');\n",
       "if (outputEl) {{\n",
       "    x.observe(outputEl, {childList: true});\n",
       "}}\n",
       "\n",
       "                        })                };                });            </script>        </div>"
      ]
     },
     "metadata": {},
     "output_type": "display_data"
    }
   ],
   "source": [
    "#visualization \n",
    "#-----------------------------------------------------\n",
    "fig_UserSpec_perCycle = px.histogram(data_frame=df_UserSpec,\n",
    "                                     x='EnergyperCycle',\n",
    "                                     y='UserID',\n",
    "                                     color='UserID',\n",
    "                                     template=\"simple_white\"\n",
    "                                    )\n",
    "\n",
    "fig_UserSpec_perCycle.show()"
   ]
  },
  {
   "cell_type": "code",
   "execution_count": null,
   "metadata": {},
   "outputs": [],
   "source": []
  }
 ],
 "metadata": {
  "kernelspec": {
   "display_name": "Python 3",
   "language": "python",
   "name": "python3"
  },
  "language_info": {
   "codemirror_mode": {
    "name": "ipython",
    "version": 3
   },
   "file_extension": ".py",
   "mimetype": "text/x-python",
   "name": "python",
   "nbconvert_exporter": "python",
   "pygments_lexer": "ipython3",
   "version": "3.8.3"
  }
 },
 "nbformat": 4,
 "nbformat_minor": 4
}
